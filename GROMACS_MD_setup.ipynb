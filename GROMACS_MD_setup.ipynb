{
 "cells": [
  {
   "cell_type": "code",
   "execution_count": 1,
   "id": "c565a327-2ea1-423a-b1e4-c1ac0f1a8d86",
   "metadata": {},
   "outputs": [],
   "source": [
    "# Sampurna Mukherjee, May 2023"
   ]
  },
  {
   "cell_type": "code",
   "execution_count": null,
   "id": "2c3c3157-c9be-4329-9b28-79b7763d7538",
   "metadata": {},
   "outputs": [],
   "source": [
    "#activate GROMACS first "
   ]
  },
  {
   "cell_type": "markdown",
   "id": "dc066dff",
   "metadata": {},
   "source": [
    "source /hps/software/users/chembl/sampurnam/bin/GMXRC"
   ]
  },
  {
   "cell_type": "code",
   "execution_count": 2,
   "id": "9a590d00",
   "metadata": {},
   "outputs": [
    {
     "name": "stdout",
     "output_type": "stream",
     "text": [
      "6id4_modeller_fixed.pdb  6id4_with_crystal_water_mol_probity.pdb\r\n"
     ]
    }
   ],
   "source": [
    "%ls *.pdb"
   ]
  },
  {
   "cell_type": "markdown",
   "id": "2f4aa801",
   "metadata": {},
   "source": [
    "# Step1: pdb2gmx"
   ]
  },
  {
   "cell_type": "markdown",
   "id": "5d344898",
   "metadata": {},
   "source": [
    "gmx_mpi pdb2gmx -f 6id4_with_crystal_water_mol_probity.pdb -o 6id4_crys_water_protonated_pdb2gmx.gro -water tip3p -p 6id4_crys_water_protonated_pdb2gmx.top -ignh"
   ]
  },
  {
   "cell_type": "markdown",
   "id": "8148e23c",
   "metadata": {},
   "source": [
    "# Net charge of system : -3 e"
   ]
  },
  {
   "cell_type": "markdown",
   "id": "db8c4e46",
   "metadata": {},
   "source": [
    "# The top file will be used all through simulation : 6id4_crys_water_protonated_pdb2gmx.top"
   ]
  },
  {
   "cell_type": "markdown",
   "id": "f34cd4b2",
   "metadata": {},
   "source": [
    "# Step 2: Copy topology file after pdb2gmx"
   ]
  },
  {
   "cell_type": "code",
   "execution_count": 4,
   "id": "425b9cc3",
   "metadata": {},
   "outputs": [],
   "source": [
    "%cp 6id4_crys_water_protonated_pdb2gmx.top a1101_pbd2gmx.top"
   ]
  },
  {
   "cell_type": "markdown",
   "id": "2b497b9b",
   "metadata": {},
   "source": [
    "# Step 3: copy .itp file for water from gromacs folder to current folder and rename it\n"
   ]
  },
  {
   "cell_type": "code",
   "execution_count": 5,
   "id": "1f480d10",
   "metadata": {},
   "outputs": [],
   "source": [
    "%cp tip3p.itp ."
   ]
  },
  {
   "cell_type": "code",
   "execution_count": 6,
   "id": "287a48f3",
   "metadata": {},
   "outputs": [],
   "source": [
    "#renaming it\n",
    "%mv tip3p.itp crys_water.itp"
   ]
  },
  {
   "cell_type": "markdown",
   "id": "a10c5dca",
   "metadata": {},
   "source": [
    "# Step 4: Edit  6id4_crys_water_protonated_pdb2gmx.top file in vi.\n",
    "# Add:\n",
    "; Include crys_water topology\n",
    "#include \"crys_water.itp\"\n",
    "\n",
    "\n",
    "# Make sure that position restraint for water in uncommented like below\n",
    "\n",
    "#ifdef POSRES_WATER\n",
    "; Position restraint for each water oxygen\n",
    "[ position_restraints ]\n",
    ";  i funct       fcx        fcy        fcz\n",
    "   1    1       1000       1000       1000\n",
    "#endif\n",
    "\n",
    "\n",
    "; Include topology for ions\n",
    "#include \"amber99sb.ff/ions.itp\"\n",
    "\n",
    "# Change SOL to crys_water in .top and in crys_water.itp file"
   ]
  },
  {
   "cell_type": "code",
   "execution_count": 9,
   "id": "aa1990f4",
   "metadata": {},
   "outputs": [],
   "source": [
    "#%cat 6id4_crys_water_protonated_pdb2gmx.top"
   ]
  },
  {
   "cell_type": "code",
   "execution_count": 10,
   "id": "9ccd537a",
   "metadata": {},
   "outputs": [],
   "source": [
    "#%cat crys_water.itp"
   ]
  },
  {
   "cell_type": "markdown",
   "id": "874efd27",
   "metadata": {},
   "source": [
    "# Step 5: Copy the changed files to keep a backup\n"
   ]
  },
  {
   "cell_type": "code",
   "execution_count": 11,
   "id": "141269ad",
   "metadata": {},
   "outputs": [],
   "source": [
    "%cp 6id4_crys_water_protonated_pdb2gmx.top edited_with_crys_water_config_pbd2gmx.top"
   ]
  },
  {
   "cell_type": "code",
   "execution_count": 12,
   "id": "ecffb98d",
   "metadata": {},
   "outputs": [],
   "source": [
    "%cp crys_water.itp edited_with_CRYS_for_crys_water.itp"
   ]
  },
  {
   "cell_type": "markdown",
   "id": "83691504",
   "metadata": {},
   "source": [
    "# Step 6 : Generate box"
   ]
  },
  {
   "cell_type": "code",
   "execution_count": null,
   "id": "27220b4b",
   "metadata": {},
   "outputs": [],
   "source": [
    "gmx_mpi editconf -f 6id4_crys_water_protonated_pdb2gmx.gro  -o a1101_crys_water_editconf_box.gro -bt cubic -c -d 1.8"
   ]
  },
  {
   "cell_type": "markdown",
   "id": "1587c3e3",
   "metadata": {},
   "source": [
    "# Visualize the pdb2gmx file and box to see if all look okay"
   ]
  },
  {
   "cell_type": "code",
   "execution_count": 15,
   "id": "29a087f8",
   "metadata": {},
   "outputs": [
    {
     "data": {
      "application/vnd.jupyter.widget-view+json": {
       "model_id": "084cca276a2a43d9a2463a72c5f4abeb",
       "version_major": 2,
       "version_minor": 0
      },
      "text/plain": [
       "NGLWidget()"
      ]
     },
     "metadata": {},
     "output_type": "display_data"
    }
   ],
   "source": [
    "import nglview as ng\n",
    "#view_pdb2gmx = ng.show_file(\"6id4_crys_water_protonated_pdb2gmx.gro\")\n",
    "#view_pdb2gmx.add_line(\"water\")\n",
    "#view_pdb2gmx\n",
    "\n",
    "view_box = ng.show_file(\"a1101_crys_water_editconf_box.gro\")\n",
    "view_box"
   ]
  },
  {
   "cell_type": "markdown",
   "id": "b85c8a20",
   "metadata": {},
   "source": [
    "# Step 7: Solvate\n",
    "gmx_mpi solvate -cp a1101_crys_water_editconf_box.gro  -cs spc216.gro -o 6id4_crys_water_run1_solvated.gro -p 6id4_crys_water_protonated_pdb2gmx.top\n"
   ]
  },
  {
   "cell_type": "code",
   "execution_count": 18,
   "id": "fd666df3",
   "metadata": {},
   "outputs": [],
   "source": [
    "#Renaming the outfile \n",
    "%mv 6id4_crys_water_run1_solvated.gro a1101_crys_water_solvated.gro"
   ]
  },
  {
   "cell_type": "code",
   "execution_count": 16,
   "id": "1c60161b",
   "metadata": {},
   "outputs": [],
   "source": [
    "#Copy the top file\n",
    "%cp 6id4_crys_water_protonated_pdb2gmx.top a1101_after_solvation.top"
   ]
  },
  {
   "cell_type": "code",
   "execution_count": 20,
   "id": "4506e405",
   "metadata": {},
   "outputs": [
    {
     "data": {
      "application/vnd.jupyter.widget-view+json": {
       "model_id": "95a65b6d4e794769ad0fed497a5740e7",
       "version_major": 2,
       "version_minor": 0
      },
      "text/plain": [
       "NGLWidget()"
      ]
     },
     "metadata": {},
     "output_type": "display_data"
    }
   ],
   "source": [
    "# Visualize solvated box\n",
    "#view_solvated = ng.show_file(\"a1101_crys_water_solvated.gro\")\n",
    "#view_solvated.add_line(\"water\")\n",
    "#view_solvated"
   ]
  },
  {
   "cell_type": "markdown",
   "id": "93045862",
   "metadata": {},
   "source": [
    "# Step 8: Create ions.mdp, change ions.mdp to constrain hydrogens and use PME instead of plain Coulomb cutoff"
   ]
  },
  {
   "cell_type": "markdown",
   "id": "77022f42",
   "metadata": {},
   "source": [
    "# Contents of ions.mdp, copied from http://www.mdtutorials.com/gmx/lysozyme/Files/ions.mdp\n",
    "; ions.mdp - used as input into grompp to generate ions.tpr\n",
    "; Parameters describing what to do, when to stop and what to save\n",
    "integrator  = steep         ; Algorithm (steep = steepest descent minimization)\n",
    "emtol       = 1000.0        ; Stop minimization when the maximum force < 1000.0 kJ/mol/nm\n",
    "emstep      = 0.01          ; Minimization step size\n",
    "nsteps      = 50000         ; Maximum number of (minimization) steps to perform\n",
    "\n",
    "; Parameters describing how to find the neighbors of each atom and how to calculate the interactions\n",
    "nstlist         = 1         ; Frequency to update the neighbor list and long range forces\n",
    "cutoff-scheme\t= Verlet    ; Buffered neighbor searching \n",
    "ns_type         = grid      ; Method to determine neighbor list (simple, grid)\n",
    "coulombtype     = cutoff    ; Treatment of long range electrostatic interactions\n",
    "rcoulomb        = 1.0       ; Short-range electrostatic cut-off\n",
    "rvdw            = 1.0       ; Short-range Van der Waals cut-off\n",
    "pbc             = xyz       ; Periodic Boundary Conditions in all 3 dimensions"
   ]
  },
  {
   "cell_type": "markdown",
   "id": "d226c041",
   "metadata": {},
   "source": [
    "# Change coulombtype=PME, nstlist = 20, add constraint-algorithm lincs constraints             = h-bonds  ; bonds involving H are constrained"
   ]
  },
  {
   "cell_type": "code",
   "execution_count": 1,
   "id": "a19d873f",
   "metadata": {},
   "outputs": [
    {
     "name": "stderr",
     "output_type": "stream",
     "text": [
      "UsageError: Line magic function `%touch` not found.\n"
     ]
    }
   ],
   "source": [
    "#touch ion_crys_water.mdp"
   ]
  },
  {
   "cell_type": "code",
   "execution_count": 3,
   "id": "3d66d49e",
   "metadata": {},
   "outputs": [
    {
     "name": "stdout",
     "output_type": "stream",
     "text": [
      "; ions.mdp - used as input into grompp to generate ions.tpr\r\n",
      "; Parameters describing what to do, when to stop and what to save\r\n",
      "integrator  = steep         ; Algorithm (steep = steepest descent minimization)\r\n",
      "emtol       = 1000.0        ; Stop minimization when the maximum force < 1000.0 kJ/mol/nm\r\n",
      "emstep      = 0.01          ; Minimization step size\r\n",
      "nsteps      = 50000         ; Maximum number of (minimization) steps to perform\r\n",
      "\r\n",
      "; Parameters describing how to find the neighbors of each atom and how to calculate the interactions\r\n",
      "constraints     = h-bonds   ; bonds involving H are constrained\r\n",
      "constraint_algorithm = lincs ;\r\n",
      "nstlist         = 20        ; Frequency to update the neighbor list and long range forces\r\n",
      "cutoff-scheme\t= Verlet    ; Buffered neighbor searching \r\n",
      "ns_type         = grid      ; Method to determine neighbor list (simple, grid)\r\n",
      "coulombtype     = PME       ; Treatment of long range electrostatic interactions\r\n",
      "rcoulomb        = 1.0       ; Short-range electrostatic cut-off\r\n",
      "rvdw            = 1.0       ; Short-range Van der Waals cut-off\r\n",
      "pbc             = xyz       ; Periodic Boundary Conditions in all 3 dimensions\r\n"
     ]
    }
   ],
   "source": [
    "%cat ion_crys_water.mdp"
   ]
  },
  {
   "cell_type": "markdown",
   "id": "c4ea2b35",
   "metadata": {},
   "source": [
    "gmx_mpi grompp -f ion_crys_water.mdp -c a1101_crys_water_solvated.gro -p 6id4_crys_water_protonated_pdb2gmx.top -o a1101_crys_water_ionization.tpr -maxwarn =1"
   ]
  },
  {
   "cell_type": "code",
   "execution_count": 4,
   "id": "bdea898d",
   "metadata": {},
   "outputs": [],
   "source": [
    "#Copying the mdp file\n",
    "%cp ion_crys_water.mdp ion_crys_water_copy.mdp"
   ]
  },
  {
   "cell_type": "code",
   "execution_count": 5,
   "id": "f49fe527",
   "metadata": {},
   "outputs": [],
   "source": [
    "#Copyin the top file\n",
    "%cp 6id4_crys_water_protonated_pdb2gmx.top a1101_crys_water_after_ions_tpr.top"
   ]
  },
  {
   "cell_type": "markdown",
   "id": "e85dc05e",
   "metadata": {},
   "source": [
    "# Step 9: Run ionization"
   ]
  },
  {
   "cell_type": "markdown",
   "id": "6426f3c7",
   "metadata": {},
   "source": [
    "gmx_mpi genion -s a1101_crys_water_ionization.tpr  -o a1101_crys_water_ionized.gro -conc 0.15 -p 6id4_crys_water_protonated_pdb2gmx.top  -pname NA -nname CL -neutral\n",
    "# Chose 13 : SOL to be replaced with ions"
   ]
  },
  {
   "cell_type": "code",
   "execution_count": 8,
   "id": "b0585e71",
   "metadata": {},
   "outputs": [],
   "source": [
    "#copy top file\n",
    "%cp 6id4_crys_water_protonated_pdb2gmx.top a1101_crys_water_after_ionization_done.top"
   ]
  },
  {
   "cell_type": "code",
   "execution_count": 1,
   "id": "e8713180",
   "metadata": {},
   "outputs": [
    {
     "data": {
      "text/plain": [
       "'/nfs/production/arl/sampurna_thesis/a1101_crystal_water'"
      ]
     },
     "execution_count": 1,
     "metadata": {},
     "output_type": "execute_result"
    }
   ],
   "source": [
    "%pwd"
   ]
  },
  {
   "cell_type": "markdown",
   "id": "c50fcbda",
   "metadata": {},
   "source": [
    "# Step 10: Run energy minization "
   ]
  },
  {
   "cell_type": "code",
   "execution_count": 6,
   "id": "ed5defb3",
   "metadata": {},
   "outputs": [
    {
     "name": "stdout",
     "output_type": "stream",
     "text": [
      "em_steepest_descent.mdp  ion_crys_water.mdp  md_6id4.mdp  npt_6id4.mdp\r\n",
      "ion_crys_water_copy.mdp  ions.mdp            mdout.mdp    nvt_6id4.mdp\r\n"
     ]
    }
   ],
   "source": [
    "%ls *.mdp"
   ]
  },
  {
   "cell_type": "code",
   "execution_count": 7,
   "id": "23fb49e9",
   "metadata": {},
   "outputs": [
    {
     "name": "stdout",
     "output_type": "stream",
     "text": [
      "integrator               = steep\r\n",
      "emtol                    = 1000.0 ; Stop minimization when the maximum force < 500.0 kJ/mol/nm\r\n",
      "emstep                   = 0.01\r\n",
      "nsteps                   = 5000\r\n",
      "\r\n",
      "\r\n",
      "; Parameters describing how to find the neighbors of each atom and how to calculate the interactions\r\n",
      "nstlist         = 10        ; Frequency to update the neighbor list and long range forces\r\n",
      "cutoff-scheme   = Verlet    ; Buffered neighbor searching\r\n",
      "ns_type         = grid      ; Method to determine neighbor list (simple, grid)\r\n",
      "coulombtype     = PME       ; Treatment of long range electrostatic interactions\r\n",
      "rcoulomb        = 1.0       ; Short-range electrostatic cut-off\r\n",
      "rvdw            = 1.0       ; Short-range Van der Waals cut-off\r\n",
      "pbc             = xyz       ; Periodic Boundary Conditions in all 3 dimensions\r\n",
      "\r\n"
     ]
    }
   ],
   "source": [
    "%cat em_steepest_descent.mdp"
   ]
  },
  {
   "cell_type": "markdown",
   "id": "30c16554-6588-4b70-9df6-cdfeef29c084",
   "metadata": {},
   "source": [
    "### Modify crys_water itp file\n",
    "Because we are retaining crystal waters in the simulation"
   ]
  },
  {
   "cell_type": "code",
   "execution_count": null,
   "id": "07e259e4-29f5-458d-a650-837d9a070686",
   "metadata": {},
   "outputs": [],
   "source": [
    "%cp crys_water.itp crys_water_unconstrained.itp"
   ]
  },
  {
   "cell_type": "code",
   "execution_count": null,
   "id": "8428120f-ba6a-4898-a50f-1e82240c2afa",
   "metadata": {},
   "outputs": [],
   "source": [
    "!vi crys_water.itp"
   ]
  },
  {
   "cell_type": "markdown",
   "id": "04a37ca5-5510-4ae5-8bc8-aa1a479e9590",
   "metadata": {},
   "source": [
    "##\n",
    "( https://gromacs.bioexcel.eu/t/how-to-treat-specific-water-molecules-as-ligand/3470/5)\n",
    "\n",
    "replace [settles] in crys_water.itp with \n",
    "\n",
    "[ constraints ]\n",
    "1 2 1 0.09572\n",
    "1 3 1 0.09572\n",
    "2 3 1 0.15139"
   ]
  },
  {
   "cell_type": "code",
   "execution_count": 5,
   "id": "4cf100f6",
   "metadata": {},
   "outputs": [
    {
     "name": "stdout",
     "output_type": "stream",
     "text": [
      "[ moleculetype ]\r\n",
      "; molname\tnrexcl\r\n",
      "crys_water\t2\r\n",
      "\r\n",
      "[ atoms ]\r\n",
      "; id  at type     res nr  res name  at name  cg nr  charge    mass\r\n",
      "  1   OW          1       SOL       OW       1      -0.834    16.00000\r\n",
      "  2   HW          1       SOL       HW1      1       0.417     1.00800\r\n",
      "  3   HW          1       SOL       HW2      1       0.417     1.00800\r\n",
      "\r\n",
      "#ifndef FLEXIBLE\r\n",
      "\r\n",
      "[ constraints ]\r\n",
      "1 2 1 0.09572\r\n",
      "1 3 1 0.09572\r\n",
      "2 3 1 0.15139\r\n",
      "\r\n",
      "[ exclusions ]\r\n",
      "1\t2\t3\r\n",
      "2\t1\t3\r\n",
      "3\t1\t2\r\n",
      "\r\n",
      "#else\r\n",
      "\r\n",
      "[ bonds ]\r\n",
      "; i     j       funct   length  force_constant\r\n",
      "1       2       1       0.09572 502416.0   0.09572        502416.0 \r\n",
      "1       3       1       0.09572 502416.0   0.09572        502416.0 \r\n",
      "        \r\n",
      "\r\n",
      "[ angles ]\r\n",
      "; i     j       k       funct   angle   force_constant\r\n",
      "2       1       3       1       104.52  628.02      104.52  628.02  \r\n",
      "\r\n",
      "#endif\r\n"
     ]
    }
   ],
   "source": [
    "%cat crys_water.itp"
   ]
  },
  {
   "cell_type": "markdown",
   "id": "fec58daa",
   "metadata": {},
   "source": [
    "# Step 10.1: generate em.tpr"
   ]
  },
  {
   "cell_type": "code",
   "execution_count": null,
   "id": "29e08d5a",
   "metadata": {},
   "outputs": [],
   "source": [
    "\n",
    "gmx_mpi grompp -f em_steepest_descent.mdp -c a1101_crys_water_ionized.gro  -p 6id4_crys_water_protonated_pdb2gmx.top -o em_a1101_crys_water_steepest_descent.tpr"
   ]
  },
  {
   "cell_type": "code",
   "execution_count": 9,
   "id": "5ad21ae4",
   "metadata": {},
   "outputs": [],
   "source": [
    "#copy the top file\n",
    "%cp 6id4_crys_water_protonated_pdb2gmx.top a1101_em_tpr.top"
   ]
  },
  {
   "cell_type": "markdown",
   "id": "f0b40fc9",
   "metadata": {},
   "source": [
    "# Request resources from SLURM cluster for mdrun: \n",
    "salloc -t 1:30:00 --mem=5G --gpus=v100:1"
   ]
  },
  {
   "cell_type": "code",
   "execution_count": null,
   "id": "55cdcaa5",
   "metadata": {},
   "outputs": [],
   "source": [
    "#run mdrun\n",
    "gmx_mpi mdrun -deffnm em_a1101_crys_water_steepest_descent -s em_a1101_crys_water_steepest_descent.tpr -nb gpu"
   ]
  },
  {
   "cell_type": "markdown",
   "id": "8bb06c7d",
   "metadata": {},
   "source": [
    "# Step 10.3 : Create and visualize the energy file to observe if the system is stable or not\n",
    "\n",
    "gmx_mpi energy -f em_a1101_crys_water_steepest_descent.edr -o a1101_crys_water_steepest_descent_potential.xvg -xvg none (choose 10 0)"
   ]
  },
  {
   "cell_type": "code",
   "execution_count": 13,
   "id": "a41c7cd2",
   "metadata": {},
   "outputs": [
    {
     "data": {
      "text/html": [
       "        <script type=\"text/javascript\">\n",
       "        window.PlotlyConfig = {MathJaxConfig: 'local'};\n",
       "        if (window.MathJax && window.MathJax.Hub && window.MathJax.Hub.Config) {window.MathJax.Hub.Config({SVG: {font: \"STIX-Web\"}});}\n",
       "        if (typeof require !== 'undefined') {\n",
       "        require.undef(\"plotly\");\n",
       "        requirejs.config({\n",
       "            paths: {\n",
       "                'plotly': ['https://cdn.plot.ly/plotly-2.20.0.min']\n",
       "            }\n",
       "        });\n",
       "        require(['plotly'], function(Plotly) {\n",
       "            window._Plotly = Plotly;\n",
       "        });\n",
       "        }\n",
       "        </script>\n",
       "        "
      ]
     },
     "metadata": {},
     "output_type": "display_data"
    },
    {
     "data": {
      "application/vnd.plotly.v1+json": {
       "config": {
        "linkText": "Export to plot.ly",
        "plotlyServerURL": "https://plot.ly",
        "showLink": false
       },
       "data": [
        {
         "type": "scatter",
         "x": [
          0,
          1,
          2,
          3,
          4,
          5,
          6,
          7,
          8,
          9,
          10,
          11,
          12,
          13,
          14,
          15,
          16,
          17,
          18,
          19,
          21,
          22,
          24,
          26,
          27,
          28,
          30,
          31,
          32,
          33,
          34,
          35,
          36,
          38,
          39,
          41,
          42,
          44,
          45,
          46,
          48,
          49,
          50,
          52,
          53,
          54,
          56,
          57,
          58,
          60,
          61,
          62,
          63,
          64,
          66,
          67,
          68,
          70,
          71,
          72,
          74,
          75,
          76,
          77,
          78,
          80,
          81,
          82,
          83,
          84,
          86,
          88,
          89,
          90,
          91,
          92,
          93,
          95,
          96,
          97,
          99,
          100,
          101,
          102,
          103,
          105,
          107,
          108,
          109,
          110,
          111,
          112,
          114,
          115,
          116,
          118,
          119,
          120,
          121,
          122,
          124,
          125,
          126,
          128,
          129,
          130,
          131,
          132,
          134,
          136,
          137,
          138,
          139,
          141,
          142,
          143,
          145,
          146,
          147,
          148,
          149,
          151,
          152,
          153,
          155,
          156,
          157,
          158,
          159,
          161,
          162,
          163,
          165,
          166,
          167,
          168,
          169,
          171,
          172,
          173,
          175,
          176,
          177,
          178,
          179,
          181,
          182,
          183,
          185,
          186,
          187,
          188,
          189,
          191,
          192,
          193,
          195,
          196,
          197,
          198,
          199,
          201,
          203,
          204,
          205,
          206,
          208,
          209,
          210,
          212,
          213,
          214,
          215,
          216,
          217,
          218,
          220,
          222,
          223,
          224,
          225,
          227,
          228,
          229,
          231,
          232,
          233,
          234,
          235,
          237,
          238,
          239,
          241,
          242,
          243,
          244,
          245,
          247,
          248,
          249,
          251,
          252,
          253,
          254,
          255,
          257,
          258,
          259,
          261,
          262,
          263,
          264,
          265,
          267,
          268,
          269,
          271,
          272,
          273,
          274,
          275,
          277,
          278,
          279,
          281,
          282,
          283,
          284,
          285,
          287,
          288,
          289,
          291,
          292,
          293,
          294,
          295,
          297,
          299,
          300,
          301,
          302,
          304,
          305,
          306,
          308,
          309,
          310,
          311,
          312,
          314,
          315,
          316,
          318,
          319,
          320,
          321,
          322,
          323,
          325,
          326,
          327,
          329,
          330,
          331,
          332,
          333,
          335,
          337,
          338,
          339,
          340,
          342,
          343,
          344,
          346,
          347,
          348,
          349,
          350,
          352,
          353,
          354,
          356,
          357,
          358,
          359,
          360,
          361,
          363,
          364,
          365,
          367,
          368,
          369,
          370,
          371,
          373,
          374,
          375,
          377,
          378,
          379,
          380,
          381,
          383,
          384,
          385,
          387,
          388,
          389,
          390,
          391,
          393,
          395,
          396,
          398,
          399,
          400,
          401,
          402,
          404,
          405,
          406,
          408,
          409,
          410,
          411,
          412,
          414,
          415,
          416,
          418,
          419,
          420,
          421,
          422,
          424,
          425,
          426,
          428,
          429,
          430,
          431,
          432,
          433,
          434,
          436,
          438,
          439,
          441,
          442,
          443,
          444,
          445,
          447,
          448,
          449,
          451,
          452,
          453,
          454,
          455,
          457,
          458,
          459,
          461,
          462,
          463,
          464,
          465,
          467,
          468,
          469,
          471,
          472,
          473,
          474,
          475,
          476,
          477,
          479,
          481,
          482,
          483,
          484,
          486,
          487,
          488,
          490,
          491,
          492,
          493,
          494,
          496,
          497,
          498,
          500,
          501,
          502,
          503,
          504,
          506,
          507,
          508,
          510,
          511,
          512,
          513,
          514,
          515,
          517,
          518,
          519,
          521,
          522,
          523,
          524,
          525,
          527,
          529,
          530,
          531,
          532,
          534,
          535,
          536,
          538,
          539,
          540,
          541,
          542,
          544,
          545,
          546,
          548,
          549,
          550,
          551,
          552,
          554,
          555,
          556,
          558,
          559,
          560,
          561,
          562,
          563,
          565,
          567,
          568,
          569,
          570,
          572,
          573,
          574,
          576,
          577,
          578,
          579,
          580,
          582,
          583,
          584,
          586,
          587,
          588,
          589,
          590,
          591,
          592,
          594,
          596,
          597,
          599,
          600,
          601,
          602,
          603,
          605,
          606,
          607,
          609,
          610,
          611,
          612,
          613,
          614,
          615,
          617,
          618,
          619,
          621,
          622,
          623,
          624,
          626,
          627,
          628,
          630,
          631,
          632,
          633,
          634,
          635,
          637,
          638,
          639,
          641,
          642,
          643,
          644,
          646,
          647,
          648,
          650,
          651,
          652,
          653,
          654,
          656,
          657,
          658,
          660,
          661,
          662,
          663,
          664,
          666,
          667,
          668,
          670,
          671,
          672,
          673,
          675,
          676,
          677,
          679,
          680,
          681,
          682,
          683,
          685,
          686,
          687,
          689,
          690,
          691,
          692,
          693,
          695,
          697,
          698,
          700,
          701,
          702,
          703,
          704,
          705,
          706,
          708,
          710,
          711,
          712,
          713,
          714,
          715,
          717,
          718,
          719,
          721,
          722,
          723,
          724,
          725,
          727,
          728,
          729,
          731,
          733,
          734,
          735,
          736,
          737,
          739,
          740,
          741,
          742,
          743,
          745,
          746,
          747,
          749,
          750,
          751,
          752,
          753,
          754,
          755,
          757,
          759,
          760,
          761,
          762,
          764,
          765,
          766,
          768,
          769,
          770,
          771,
          772,
          774,
          775,
          776,
          778,
          779,
          780,
          781,
          782,
          783,
          784,
          786,
          788,
          790,
          791,
          792,
          793,
          794,
          795,
          796,
          798,
          800,
          802,
          803,
          804,
          805,
          806,
          807,
          808,
          809,
          810,
          812,
          813,
          814,
          816,
          817,
          818,
          819,
          820,
          822,
          823,
          824,
          826,
          827,
          828,
          829,
          830,
          831,
          833,
          834,
          835,
          837,
          838,
          839,
          840,
          841,
          843,
          844,
          845,
          847,
          848,
          849,
          850,
          851,
          853,
          854,
          855,
          857,
          858,
          859,
          860,
          861,
          863,
          865,
          867,
          868,
          869,
          870,
          871,
          873,
          875,
          876,
          877,
          879,
          880,
          881,
          882,
          883,
          885,
          886,
          887,
          889,
          890,
          891,
          892,
          893,
          895,
          897,
          898,
          899,
          900,
          901,
          902,
          903,
          904,
          905,
          907,
          909,
          910,
          911
         ],
         "y": [
          -32193658,
          -32326640,
          -32553272,
          -32886010,
          -33361682,
          -34070284,
          -35077376,
          -35239584,
          -35523176,
          -35656800,
          -35851768,
          -35975576,
          -36124696,
          -36238900,
          -36356016,
          -36464016,
          -36536068,
          -36544676,
          -36773468,
          -36889436,
          -37015332,
          -37099252,
          -37120800,
          -37266572,
          -37326368,
          -37431788,
          -37500108,
          -37554628,
          -37605328,
          -37654884,
          -37701172,
          -37745172,
          -37773604,
          -37798436,
          -37820860,
          -37894608,
          -37938296,
          -37980592,
          -37990208,
          -38053084,
          -38109188,
          -38119316,
          -38187944,
          -38233484,
          -38249012,
          -38300120,
          -38342220,
          -38365796,
          -38414688,
          -38447972,
          -38472832,
          -38508884,
          -38514516,
          -38551412,
          -38598276,
          -38608976,
          -38669532,
          -38695748,
          -38711056,
          -38738004,
          -38771864,
          -38802836,
          -38844736,
          -38847144,
          -38892424,
          -38917612,
          -38930692,
          -38957876,
          -38958024,
          -38984144,
          -39024564,
          -39043960,
          -39062588,
          -39075844,
          -39094260,
          -39099096,
          -39115768,
          -39154856,
          -39164312,
          -39214884,
          -39230640,
          -39241456,
          -39256984,
          -39260164,
          -39273236,
          -39312692,
          -39330272,
          -39346532,
          -39355472,
          -39371848,
          -39373876,
          -39387016,
          -39420744,
          -39423772,
          -39471792,
          -39483100,
          -39493528,
          -39502288,
          -39509840,
          -39512448,
          -39550596,
          -39575664,
          -39624016,
          -39635524,
          -39642700,
          -39652816,
          -39655804,
          -39662864,
          -39692568,
          -39706368,
          -39719436,
          -39723792,
          -39738332,
          -39752044,
          -39760716,
          -39776128,
          -39787592,
          -39795220,
          -39806604,
          -39811276,
          -39823556,
          -39836724,
          -39846060,
          -39861740,
          -39871180,
          -39878316,
          -39888056,
          -39892620,
          -39902716,
          -39916036,
          -39924448,
          -39941224,
          -39949560,
          -39956256,
          -39964892,
          -39968608,
          -39976800,
          -39990692,
          -39998208,
          -40016172,
          -40023900,
          -40029656,
          -40037560,
          -40040388,
          -40047096,
          -40062964,
          -40067788,
          -40089020,
          -40095784,
          -40100968,
          -40107544,
          -40109364,
          -40114172,
          -40132140,
          -40133956,
          -40158880,
          -40165148,
          -40169296,
          -40174952,
          -40175720,
          -40178812,
          -40199744,
          -40207460,
          -40215708,
          -40217576,
          -40226156,
          -40235836,
          -40240524,
          -40252676,
          -40260084,
          -40264088,
          -40269816,
          -40272812,
          -40277732,
          -40278320,
          -40280620,
          -40301344,
          -40311244,
          -40316868,
          -40317056,
          -40326716,
          -40334752,
          -40337980,
          -40347648,
          -40354632,
          -40357892,
          -40365120,
          -40365900,
          -40373908,
          -40382376,
          -40385552,
          -40395288,
          -40401720,
          -40405068,
          -40411108,
          -40412088,
          -40419108,
          -40428108,
          -40431456,
          -40442164,
          -40446992,
          -40450708,
          -40456360,
          -40457400,
          -40462880,
          -40472592,
          -40475448,
          -40487928,
          -40492476,
          -40496412,
          -40500788,
          -40502152,
          -40506024,
          -40516968,
          -40519836,
          -40534556,
          -40538572,
          -40541676,
          -40545412,
          -40546676,
          -40549244,
          -40561452,
          -40564004,
          -40580532,
          -40584416,
          -40587004,
          -40590252,
          -40591048,
          -40592796,
          -40606400,
          -40606536,
          -40625836,
          -40629540,
          -40631876,
          -40634608,
          -40634932,
          -40635884,
          -40651240,
          -40655712,
          -40661184,
          -40661352,
          -40667548,
          -40674116,
          -40675804,
          -40684100,
          -40688792,
          -40690920,
          -40695060,
          -40695944,
          -40699388,
          -40707152,
          -40711060,
          -40721788,
          -40726200,
          -40727908,
          -40730712,
          -40733192,
          -40734484,
          -40735160,
          -40747804,
          -40750120,
          -40766832,
          -40769792,
          -40772212,
          -40774288,
          -40775108,
          -40776204,
          -40788424,
          -40796352,
          -40798048,
          -40799156,
          -40804088,
          -40810104,
          -40811212,
          -40817352,
          -40821672,
          -40823912,
          -40827240,
          -40828368,
          -40831804,
          -40837500,
          -40841504,
          -40849184,
          -40852792,
          -40855000,
          -40857912,
          -40860012,
          -40861604,
          -40862432,
          -40871604,
          -40879040,
          -40890848,
          -40893572,
          -40895796,
          -40898220,
          -40899584,
          -40900896,
          -40909504,
          -40913028,
          -40924732,
          -40927372,
          -40929384,
          -40931384,
          -40932188,
          -40933200,
          -40942724,
          -40943240,
          -40956632,
          -40959260,
          -40960768,
          -40962480,
          -40963376,
          -40963888,
          -40974792,
          -40978100,
          -40982256,
          -40986064,
          -40987560,
          -40991232,
          -40992388,
          -40996224,
          -41000640,
          -41002108,
          -41006680,
          -41010176,
          -41012072,
          -41015112,
          -41016336,
          -41019576,
          -41023764,
          -41026296,
          -41031400,
          -41034380,
          -41036516,
          -41039080,
          -41040496,
          -41043012,
          -41047500,
          -41051072,
          -41056852,
          -41059912,
          -41061540,
          -41063744,
          -41064932,
          -41067104,
          -41067328,
          -41068228,
          -41077644,
          -41082368,
          -41084364,
          -41087176,
          -41089448,
          -41092596,
          -41093284,
          -41096396,
          -41100472,
          -41102808,
          -41107152,
          -41110300,
          -41111908,
          -41114792,
          -41115600,
          -41118128,
          -41122788,
          -41125080,
          -41129456,
          -41132820,
          -41133528,
          -41135680,
          -41137272,
          -41139300,
          -41143284,
          -41147368,
          -41152236,
          -41156388,
          -41157084,
          -41159072,
          -41160660,
          -41162352,
          -41163160,
          -41163732,
          -41171340,
          -41177104,
          -41177604,
          -41178104,
          -41181612,
          -41185692,
          -41186620,
          -41190516,
          -41193988,
          -41194844,
          -41197604,
          -41198428,
          -41200776,
          -41204692,
          -41205680,
          -41211100,
          -41214736,
          -41215092,
          -41217220,
          -41218272,
          -41219696,
          -41224504,
          -41228028,
          -41234764,
          -41237976,
          -41238292,
          -41239876,
          -41241276,
          -41241908,
          -41242800,
          -41250028,
          -41250432,
          -41260516,
          -41262280,
          -41263884,
          -41264872,
          -41265148,
          -41265360,
          -41273364,
          -41277888,
          -41279244,
          -41279456,
          -41282764,
          -41286120,
          -41286504,
          -41290288,
          -41293240,
          -41294000,
          -41296120,
          -41296804,
          -41298996,
          -41302852,
          -41304300,
          -41309140,
          -41311888,
          -41313128,
          -41314876,
          -41315472,
          -41316776,
          -41321504,
          -41324032,
          -41330348,
          -41333460,
          -41333732,
          -41334924,
          -41336408,
          -41336728,
          -41337064,
          -41344312,
          -41348336,
          -41349464,
          -41349960,
          -41353184,
          -41356192,
          -41356900,
          -41359952,
          -41363116,
          -41363704,
          -41365744,
          -41366352,
          -41368208,
          -41371956,
          -41372888,
          -41376812,
          -41379800,
          -41380072,
          -41381864,
          -41382596,
          -41383932,
          -41384160,
          -41384572,
          -41391656,
          -41395256,
          -41396604,
          -41398344,
          -41400020,
          -41401940,
          -41402792,
          -41405048,
          -41408168,
          -41409752,
          -41412888,
          -41414984,
          -41416256,
          -41418004,
          -41419020,
          -41420584,
          -41420960,
          -41421884,
          -41427060,
          -41427796,
          -41434964,
          -41436156,
          -41437524,
          -41438580,
          -41439400,
          -41443688,
          -41447412,
          -41452820,
          -41454804,
          -41455644,
          -41456964,
          -41457896,
          -41458428,
          -41458568,
          -41464392,
          -41464832,
          -41473412,
          -41474656,
          -41475596,
          -41476692,
          -41477148,
          -41482148,
          -41485340,
          -41491516,
          -41492776,
          -41494048,
          -41495296,
          -41495992,
          -41496496,
          -41501816,
          -41503992,
          -41510632,
          -41512128,
          -41513240,
          -41514420,
          -41514900,
          -41515284,
          -41520532,
          -41521020,
          -41528140,
          -41529420,
          -41530416,
          -41531180,
          -41531436,
          -41535976,
          -41540160,
          -41546364,
          -41547728,
          -41548860,
          -41549992,
          -41550496,
          -41551340,
          -41555716,
          -41556832,
          -41563320,
          -41564184,
          -41565356,
          -41566448,
          -41566916,
          -41567244,
          -41572576,
          -41575936,
          -41577024,
          -41578456,
          -41579804,
          -41581272,
          -41582096,
          -41583604,
          -41584032,
          -41585444,
          -41589404,
          -41591520,
          -41592128,
          -41592844,
          -41594716,
          -41594740,
          -41596528,
          -41599408,
          -41600156,
          -41603652,
          -41605920,
          -41605964,
          -41607284,
          -41607528,
          -41608688,
          -41612288,
          -41612648,
          -41617208,
          -41619488,
          -41620296,
          -41624768,
          -41626452,
          -41628096,
          -41630128,
          -41631708,
          -41632740,
          -41634148,
          -41634696,
          -41636252,
          -41638772,
          -41639908,
          -41642500,
          -41643876,
          -41644592,
          -41646040,
          -41647032,
          -41648048,
          -41648216,
          -41648872,
          -41652988,
          -41655756,
          -41655880,
          -41656536,
          -41658480,
          -41660744,
          -41661436,
          -41663612,
          -41665848,
          -41666504,
          -41667816,
          -41668312,
          -41669540,
          -41671880,
          -41673328,
          -41676308,
          -41678276,
          -41678512,
          -41679608,
          -41680268,
          -41681108,
          -41681312,
          -41681380,
          -41686436,
          -41690580,
          -41691460,
          -41693440,
          -41694760,
          -41695584,
          -41697120,
          -41697180,
          -41697280,
          -41700264,
          -41702468,
          -41703000,
          -41710076,
          -41711236,
          -41712792,
          -41714052,
          -41715180,
          -41716556,
          -41717008,
          -41717104,
          -41719712,
          -41720328,
          -41723168,
          -41724692,
          -41725360,
          -41726344,
          -41727376,
          -41728148,
          -41731096,
          -41733584,
          -41737008,
          -41738520,
          -41738936,
          -41739560,
          -41740400,
          -41740700,
          -41741356,
          -41745036,
          -41745904,
          -41750348,
          -41751292,
          -41752156,
          -41752900,
          -41753256,
          -41753276,
          -41757472,
          -41758840,
          -41764016,
          -41765184,
          -41766020,
          -41766776,
          -41766980,
          -41767072,
          -41771132,
          -41771360,
          -41776824,
          -41777600,
          -41778596,
          -41779248,
          -41779500,
          -41779696,
          -41784264,
          -41787316,
          -41787872,
          -41789664,
          -41791032,
          -41791528,
          -41793156,
          -41794468,
          -41798512,
          -41799624,
          -41800784,
          -41801060,
          -41804028,
          -41805020,
          -41806664,
          -41807864,
          -41810528,
          -41812120,
          -41813208,
          -41814420,
          -41816188,
          -41817260,
          -41818544,
          -41819776,
          -41820640,
          -41822356,
          -41823420,
          -41824740,
          -41825844,
          -41826960,
          -41827940,
          -41828880,
          -41829860,
          -41830756,
          -41835428,
          -41840108,
          -41841052,
          -41842924
         ]
        }
       ],
       "layout": {
        "template": {
         "data": {
          "bar": [
           {
            "error_x": {
             "color": "#2a3f5f"
            },
            "error_y": {
             "color": "#2a3f5f"
            },
            "marker": {
             "line": {
              "color": "#E5ECF6",
              "width": 0.5
             },
             "pattern": {
              "fillmode": "overlay",
              "size": 10,
              "solidity": 0.2
             }
            },
            "type": "bar"
           }
          ],
          "barpolar": [
           {
            "marker": {
             "line": {
              "color": "#E5ECF6",
              "width": 0.5
             },
             "pattern": {
              "fillmode": "overlay",
              "size": 10,
              "solidity": 0.2
             }
            },
            "type": "barpolar"
           }
          ],
          "carpet": [
           {
            "aaxis": {
             "endlinecolor": "#2a3f5f",
             "gridcolor": "white",
             "linecolor": "white",
             "minorgridcolor": "white",
             "startlinecolor": "#2a3f5f"
            },
            "baxis": {
             "endlinecolor": "#2a3f5f",
             "gridcolor": "white",
             "linecolor": "white",
             "minorgridcolor": "white",
             "startlinecolor": "#2a3f5f"
            },
            "type": "carpet"
           }
          ],
          "choropleth": [
           {
            "colorbar": {
             "outlinewidth": 0,
             "ticks": ""
            },
            "type": "choropleth"
           }
          ],
          "contour": [
           {
            "colorbar": {
             "outlinewidth": 0,
             "ticks": ""
            },
            "colorscale": [
             [
              0,
              "#0d0887"
             ],
             [
              0.1111111111111111,
              "#46039f"
             ],
             [
              0.2222222222222222,
              "#7201a8"
             ],
             [
              0.3333333333333333,
              "#9c179e"
             ],
             [
              0.4444444444444444,
              "#bd3786"
             ],
             [
              0.5555555555555556,
              "#d8576b"
             ],
             [
              0.6666666666666666,
              "#ed7953"
             ],
             [
              0.7777777777777778,
              "#fb9f3a"
             ],
             [
              0.8888888888888888,
              "#fdca26"
             ],
             [
              1,
              "#f0f921"
             ]
            ],
            "type": "contour"
           }
          ],
          "contourcarpet": [
           {
            "colorbar": {
             "outlinewidth": 0,
             "ticks": ""
            },
            "type": "contourcarpet"
           }
          ],
          "heatmap": [
           {
            "colorbar": {
             "outlinewidth": 0,
             "ticks": ""
            },
            "colorscale": [
             [
              0,
              "#0d0887"
             ],
             [
              0.1111111111111111,
              "#46039f"
             ],
             [
              0.2222222222222222,
              "#7201a8"
             ],
             [
              0.3333333333333333,
              "#9c179e"
             ],
             [
              0.4444444444444444,
              "#bd3786"
             ],
             [
              0.5555555555555556,
              "#d8576b"
             ],
             [
              0.6666666666666666,
              "#ed7953"
             ],
             [
              0.7777777777777778,
              "#fb9f3a"
             ],
             [
              0.8888888888888888,
              "#fdca26"
             ],
             [
              1,
              "#f0f921"
             ]
            ],
            "type": "heatmap"
           }
          ],
          "heatmapgl": [
           {
            "colorbar": {
             "outlinewidth": 0,
             "ticks": ""
            },
            "colorscale": [
             [
              0,
              "#0d0887"
             ],
             [
              0.1111111111111111,
              "#46039f"
             ],
             [
              0.2222222222222222,
              "#7201a8"
             ],
             [
              0.3333333333333333,
              "#9c179e"
             ],
             [
              0.4444444444444444,
              "#bd3786"
             ],
             [
              0.5555555555555556,
              "#d8576b"
             ],
             [
              0.6666666666666666,
              "#ed7953"
             ],
             [
              0.7777777777777778,
              "#fb9f3a"
             ],
             [
              0.8888888888888888,
              "#fdca26"
             ],
             [
              1,
              "#f0f921"
             ]
            ],
            "type": "heatmapgl"
           }
          ],
          "histogram": [
           {
            "marker": {
             "pattern": {
              "fillmode": "overlay",
              "size": 10,
              "solidity": 0.2
             }
            },
            "type": "histogram"
           }
          ],
          "histogram2d": [
           {
            "colorbar": {
             "outlinewidth": 0,
             "ticks": ""
            },
            "colorscale": [
             [
              0,
              "#0d0887"
             ],
             [
              0.1111111111111111,
              "#46039f"
             ],
             [
              0.2222222222222222,
              "#7201a8"
             ],
             [
              0.3333333333333333,
              "#9c179e"
             ],
             [
              0.4444444444444444,
              "#bd3786"
             ],
             [
              0.5555555555555556,
              "#d8576b"
             ],
             [
              0.6666666666666666,
              "#ed7953"
             ],
             [
              0.7777777777777778,
              "#fb9f3a"
             ],
             [
              0.8888888888888888,
              "#fdca26"
             ],
             [
              1,
              "#f0f921"
             ]
            ],
            "type": "histogram2d"
           }
          ],
          "histogram2dcontour": [
           {
            "colorbar": {
             "outlinewidth": 0,
             "ticks": ""
            },
            "colorscale": [
             [
              0,
              "#0d0887"
             ],
             [
              0.1111111111111111,
              "#46039f"
             ],
             [
              0.2222222222222222,
              "#7201a8"
             ],
             [
              0.3333333333333333,
              "#9c179e"
             ],
             [
              0.4444444444444444,
              "#bd3786"
             ],
             [
              0.5555555555555556,
              "#d8576b"
             ],
             [
              0.6666666666666666,
              "#ed7953"
             ],
             [
              0.7777777777777778,
              "#fb9f3a"
             ],
             [
              0.8888888888888888,
              "#fdca26"
             ],
             [
              1,
              "#f0f921"
             ]
            ],
            "type": "histogram2dcontour"
           }
          ],
          "mesh3d": [
           {
            "colorbar": {
             "outlinewidth": 0,
             "ticks": ""
            },
            "type": "mesh3d"
           }
          ],
          "parcoords": [
           {
            "line": {
             "colorbar": {
              "outlinewidth": 0,
              "ticks": ""
             }
            },
            "type": "parcoords"
           }
          ],
          "pie": [
           {
            "automargin": true,
            "type": "pie"
           }
          ],
          "scatter": [
           {
            "fillpattern": {
             "fillmode": "overlay",
             "size": 10,
             "solidity": 0.2
            },
            "type": "scatter"
           }
          ],
          "scatter3d": [
           {
            "line": {
             "colorbar": {
              "outlinewidth": 0,
              "ticks": ""
             }
            },
            "marker": {
             "colorbar": {
              "outlinewidth": 0,
              "ticks": ""
             }
            },
            "type": "scatter3d"
           }
          ],
          "scattercarpet": [
           {
            "marker": {
             "colorbar": {
              "outlinewidth": 0,
              "ticks": ""
             }
            },
            "type": "scattercarpet"
           }
          ],
          "scattergeo": [
           {
            "marker": {
             "colorbar": {
              "outlinewidth": 0,
              "ticks": ""
             }
            },
            "type": "scattergeo"
           }
          ],
          "scattergl": [
           {
            "marker": {
             "colorbar": {
              "outlinewidth": 0,
              "ticks": ""
             }
            },
            "type": "scattergl"
           }
          ],
          "scattermapbox": [
           {
            "marker": {
             "colorbar": {
              "outlinewidth": 0,
              "ticks": ""
             }
            },
            "type": "scattermapbox"
           }
          ],
          "scatterpolar": [
           {
            "marker": {
             "colorbar": {
              "outlinewidth": 0,
              "ticks": ""
             }
            },
            "type": "scatterpolar"
           }
          ],
          "scatterpolargl": [
           {
            "marker": {
             "colorbar": {
              "outlinewidth": 0,
              "ticks": ""
             }
            },
            "type": "scatterpolargl"
           }
          ],
          "scatterternary": [
           {
            "marker": {
             "colorbar": {
              "outlinewidth": 0,
              "ticks": ""
             }
            },
            "type": "scatterternary"
           }
          ],
          "surface": [
           {
            "colorbar": {
             "outlinewidth": 0,
             "ticks": ""
            },
            "colorscale": [
             [
              0,
              "#0d0887"
             ],
             [
              0.1111111111111111,
              "#46039f"
             ],
             [
              0.2222222222222222,
              "#7201a8"
             ],
             [
              0.3333333333333333,
              "#9c179e"
             ],
             [
              0.4444444444444444,
              "#bd3786"
             ],
             [
              0.5555555555555556,
              "#d8576b"
             ],
             [
              0.6666666666666666,
              "#ed7953"
             ],
             [
              0.7777777777777778,
              "#fb9f3a"
             ],
             [
              0.8888888888888888,
              "#fdca26"
             ],
             [
              1,
              "#f0f921"
             ]
            ],
            "type": "surface"
           }
          ],
          "table": [
           {
            "cells": {
             "fill": {
              "color": "#EBF0F8"
             },
             "line": {
              "color": "white"
             }
            },
            "header": {
             "fill": {
              "color": "#C8D4E3"
             },
             "line": {
              "color": "white"
             }
            },
            "type": "table"
           }
          ]
         },
         "layout": {
          "annotationdefaults": {
           "arrowcolor": "#2a3f5f",
           "arrowhead": 0,
           "arrowwidth": 1
          },
          "autotypenumbers": "strict",
          "coloraxis": {
           "colorbar": {
            "outlinewidth": 0,
            "ticks": ""
           }
          },
          "colorscale": {
           "diverging": [
            [
             0,
             "#8e0152"
            ],
            [
             0.1,
             "#c51b7d"
            ],
            [
             0.2,
             "#de77ae"
            ],
            [
             0.3,
             "#f1b6da"
            ],
            [
             0.4,
             "#fde0ef"
            ],
            [
             0.5,
             "#f7f7f7"
            ],
            [
             0.6,
             "#e6f5d0"
            ],
            [
             0.7,
             "#b8e186"
            ],
            [
             0.8,
             "#7fbc41"
            ],
            [
             0.9,
             "#4d9221"
            ],
            [
             1,
             "#276419"
            ]
           ],
           "sequential": [
            [
             0,
             "#0d0887"
            ],
            [
             0.1111111111111111,
             "#46039f"
            ],
            [
             0.2222222222222222,
             "#7201a8"
            ],
            [
             0.3333333333333333,
             "#9c179e"
            ],
            [
             0.4444444444444444,
             "#bd3786"
            ],
            [
             0.5555555555555556,
             "#d8576b"
            ],
            [
             0.6666666666666666,
             "#ed7953"
            ],
            [
             0.7777777777777778,
             "#fb9f3a"
            ],
            [
             0.8888888888888888,
             "#fdca26"
            ],
            [
             1,
             "#f0f921"
            ]
           ],
           "sequentialminus": [
            [
             0,
             "#0d0887"
            ],
            [
             0.1111111111111111,
             "#46039f"
            ],
            [
             0.2222222222222222,
             "#7201a8"
            ],
            [
             0.3333333333333333,
             "#9c179e"
            ],
            [
             0.4444444444444444,
             "#bd3786"
            ],
            [
             0.5555555555555556,
             "#d8576b"
            ],
            [
             0.6666666666666666,
             "#ed7953"
            ],
            [
             0.7777777777777778,
             "#fb9f3a"
            ],
            [
             0.8888888888888888,
             "#fdca26"
            ],
            [
             1,
             "#f0f921"
            ]
           ]
          },
          "colorway": [
           "#636efa",
           "#EF553B",
           "#00cc96",
           "#ab63fa",
           "#FFA15A",
           "#19d3f3",
           "#FF6692",
           "#B6E880",
           "#FF97FF",
           "#FECB52"
          ],
          "font": {
           "color": "#2a3f5f"
          },
          "geo": {
           "bgcolor": "white",
           "lakecolor": "white",
           "landcolor": "#E5ECF6",
           "showlakes": true,
           "showland": true,
           "subunitcolor": "white"
          },
          "hoverlabel": {
           "align": "left"
          },
          "hovermode": "closest",
          "mapbox": {
           "style": "light"
          },
          "paper_bgcolor": "white",
          "plot_bgcolor": "#E5ECF6",
          "polar": {
           "angularaxis": {
            "gridcolor": "white",
            "linecolor": "white",
            "ticks": ""
           },
           "bgcolor": "#E5ECF6",
           "radialaxis": {
            "gridcolor": "white",
            "linecolor": "white",
            "ticks": ""
           }
          },
          "scene": {
           "xaxis": {
            "backgroundcolor": "#E5ECF6",
            "gridcolor": "white",
            "gridwidth": 2,
            "linecolor": "white",
            "showbackground": true,
            "ticks": "",
            "zerolinecolor": "white"
           },
           "yaxis": {
            "backgroundcolor": "#E5ECF6",
            "gridcolor": "white",
            "gridwidth": 2,
            "linecolor": "white",
            "showbackground": true,
            "ticks": "",
            "zerolinecolor": "white"
           },
           "zaxis": {
            "backgroundcolor": "#E5ECF6",
            "gridcolor": "white",
            "gridwidth": 2,
            "linecolor": "white",
            "showbackground": true,
            "ticks": "",
            "zerolinecolor": "white"
           }
          },
          "shapedefaults": {
           "line": {
            "color": "#2a3f5f"
           }
          },
          "ternary": {
           "aaxis": {
            "gridcolor": "white",
            "linecolor": "white",
            "ticks": ""
           },
           "baxis": {
            "gridcolor": "white",
            "linecolor": "white",
            "ticks": ""
           },
           "bgcolor": "#E5ECF6",
           "caxis": {
            "gridcolor": "white",
            "linecolor": "white",
            "ticks": ""
           }
          },
          "title": {
           "x": 0.05
          },
          "xaxis": {
           "automargin": true,
           "gridcolor": "white",
           "linecolor": "white",
           "ticks": "",
           "title": {
            "standoff": 15
           },
           "zerolinecolor": "white",
           "zerolinewidth": 2
          },
          "yaxis": {
           "automargin": true,
           "gridcolor": "white",
           "linecolor": "white",
           "ticks": "",
           "title": {
            "standoff": 15
           },
           "zerolinecolor": "white",
           "zerolinewidth": 2
          }
         }
        },
        "title": {
         "text": "Energy Minimization"
        },
        "xaxis": {
         "title": {
          "text": "Energy Minimization Step"
         }
        },
        "yaxis": {
         "title": {
          "text": "Potential Energy KJ/mol-1"
         }
        }
       }
      },
      "text/html": [
       "<div>                            <div id=\"5cc3bc62-1cc2-4b14-93ed-8202c0e579ee\" class=\"plotly-graph-div\" style=\"height:525px; width:100%;\"></div>            <script type=\"text/javascript\">                require([\"plotly\"], function(Plotly) {                    window.PLOTLYENV=window.PLOTLYENV || {};                                    if (document.getElementById(\"5cc3bc62-1cc2-4b14-93ed-8202c0e579ee\")) {                    Plotly.newPlot(                        \"5cc3bc62-1cc2-4b14-93ed-8202c0e579ee\",                        [{\"x\":[0.0,1.0,2.0,3.0,4.0,5.0,6.0,7.0,8.0,9.0,10.0,11.0,12.0,13.0,14.0,15.0,16.0,17.0,18.0,19.0,21.0,22.0,24.0,26.0,27.0,28.0,30.0,31.0,32.0,33.0,34.0,35.0,36.0,38.0,39.0,41.0,42.0,44.0,45.0,46.0,48.0,49.0,50.0,52.0,53.0,54.0,56.0,57.0,58.0,60.0,61.0,62.0,63.0,64.0,66.0,67.0,68.0,70.0,71.0,72.0,74.0,75.0,76.0,77.0,78.0,80.0,81.0,82.0,83.0,84.0,86.0,88.0,89.0,90.0,91.0,92.0,93.0,95.0,96.0,97.0,99.0,100.0,101.0,102.0,103.0,105.0,107.0,108.0,109.0,110.0,111.0,112.0,114.0,115.0,116.0,118.0,119.0,120.0,121.0,122.0,124.0,125.0,126.0,128.0,129.0,130.0,131.0,132.0,134.0,136.0,137.0,138.0,139.0,141.0,142.0,143.0,145.0,146.0,147.0,148.0,149.0,151.0,152.0,153.0,155.0,156.0,157.0,158.0,159.0,161.0,162.0,163.0,165.0,166.0,167.0,168.0,169.0,171.0,172.0,173.0,175.0,176.0,177.0,178.0,179.0,181.0,182.0,183.0,185.0,186.0,187.0,188.0,189.0,191.0,192.0,193.0,195.0,196.0,197.0,198.0,199.0,201.0,203.0,204.0,205.0,206.0,208.0,209.0,210.0,212.0,213.0,214.0,215.0,216.0,217.0,218.0,220.0,222.0,223.0,224.0,225.0,227.0,228.0,229.0,231.0,232.0,233.0,234.0,235.0,237.0,238.0,239.0,241.0,242.0,243.0,244.0,245.0,247.0,248.0,249.0,251.0,252.0,253.0,254.0,255.0,257.0,258.0,259.0,261.0,262.0,263.0,264.0,265.0,267.0,268.0,269.0,271.0,272.0,273.0,274.0,275.0,277.0,278.0,279.0,281.0,282.0,283.0,284.0,285.0,287.0,288.0,289.0,291.0,292.0,293.0,294.0,295.0,297.0,299.0,300.0,301.0,302.0,304.0,305.0,306.0,308.0,309.0,310.0,311.0,312.0,314.0,315.0,316.0,318.0,319.0,320.0,321.0,322.0,323.0,325.0,326.0,327.0,329.0,330.0,331.0,332.0,333.0,335.0,337.0,338.0,339.0,340.0,342.0,343.0,344.0,346.0,347.0,348.0,349.0,350.0,352.0,353.0,354.0,356.0,357.0,358.0,359.0,360.0,361.0,363.0,364.0,365.0,367.0,368.0,369.0,370.0,371.0,373.0,374.0,375.0,377.0,378.0,379.0,380.0,381.0,383.0,384.0,385.0,387.0,388.0,389.0,390.0,391.0,393.0,395.0,396.0,398.0,399.0,400.0,401.0,402.0,404.0,405.0,406.0,408.0,409.0,410.0,411.0,412.0,414.0,415.0,416.0,418.0,419.0,420.0,421.0,422.0,424.0,425.0,426.0,428.0,429.0,430.0,431.0,432.0,433.0,434.0,436.0,438.0,439.0,441.0,442.0,443.0,444.0,445.0,447.0,448.0,449.0,451.0,452.0,453.0,454.0,455.0,457.0,458.0,459.0,461.0,462.0,463.0,464.0,465.0,467.0,468.0,469.0,471.0,472.0,473.0,474.0,475.0,476.0,477.0,479.0,481.0,482.0,483.0,484.0,486.0,487.0,488.0,490.0,491.0,492.0,493.0,494.0,496.0,497.0,498.0,500.0,501.0,502.0,503.0,504.0,506.0,507.0,508.0,510.0,511.0,512.0,513.0,514.0,515.0,517.0,518.0,519.0,521.0,522.0,523.0,524.0,525.0,527.0,529.0,530.0,531.0,532.0,534.0,535.0,536.0,538.0,539.0,540.0,541.0,542.0,544.0,545.0,546.0,548.0,549.0,550.0,551.0,552.0,554.0,555.0,556.0,558.0,559.0,560.0,561.0,562.0,563.0,565.0,567.0,568.0,569.0,570.0,572.0,573.0,574.0,576.0,577.0,578.0,579.0,580.0,582.0,583.0,584.0,586.0,587.0,588.0,589.0,590.0,591.0,592.0,594.0,596.0,597.0,599.0,600.0,601.0,602.0,603.0,605.0,606.0,607.0,609.0,610.0,611.0,612.0,613.0,614.0,615.0,617.0,618.0,619.0,621.0,622.0,623.0,624.0,626.0,627.0,628.0,630.0,631.0,632.0,633.0,634.0,635.0,637.0,638.0,639.0,641.0,642.0,643.0,644.0,646.0,647.0,648.0,650.0,651.0,652.0,653.0,654.0,656.0,657.0,658.0,660.0,661.0,662.0,663.0,664.0,666.0,667.0,668.0,670.0,671.0,672.0,673.0,675.0,676.0,677.0,679.0,680.0,681.0,682.0,683.0,685.0,686.0,687.0,689.0,690.0,691.0,692.0,693.0,695.0,697.0,698.0,700.0,701.0,702.0,703.0,704.0,705.0,706.0,708.0,710.0,711.0,712.0,713.0,714.0,715.0,717.0,718.0,719.0,721.0,722.0,723.0,724.0,725.0,727.0,728.0,729.0,731.0,733.0,734.0,735.0,736.0,737.0,739.0,740.0,741.0,742.0,743.0,745.0,746.0,747.0,749.0,750.0,751.0,752.0,753.0,754.0,755.0,757.0,759.0,760.0,761.0,762.0,764.0,765.0,766.0,768.0,769.0,770.0,771.0,772.0,774.0,775.0,776.0,778.0,779.0,780.0,781.0,782.0,783.0,784.0,786.0,788.0,790.0,791.0,792.0,793.0,794.0,795.0,796.0,798.0,800.0,802.0,803.0,804.0,805.0,806.0,807.0,808.0,809.0,810.0,812.0,813.0,814.0,816.0,817.0,818.0,819.0,820.0,822.0,823.0,824.0,826.0,827.0,828.0,829.0,830.0,831.0,833.0,834.0,835.0,837.0,838.0,839.0,840.0,841.0,843.0,844.0,845.0,847.0,848.0,849.0,850.0,851.0,853.0,854.0,855.0,857.0,858.0,859.0,860.0,861.0,863.0,865.0,867.0,868.0,869.0,870.0,871.0,873.0,875.0,876.0,877.0,879.0,880.0,881.0,882.0,883.0,885.0,886.0,887.0,889.0,890.0,891.0,892.0,893.0,895.0,897.0,898.0,899.0,900.0,901.0,902.0,903.0,904.0,905.0,907.0,909.0,910.0,911.0],\"y\":[-32193658.0,-32326640.0,-32553272.0,-32886010.0,-33361682.0,-34070284.0,-35077376.0,-35239584.0,-35523176.0,-35656800.0,-35851768.0,-35975576.0,-36124696.0,-36238900.0,-36356016.0,-36464016.0,-36536068.0,-36544676.0,-36773468.0,-36889436.0,-37015332.0,-37099252.0,-37120800.0,-37266572.0,-37326368.0,-37431788.0,-37500108.0,-37554628.0,-37605328.0,-37654884.0,-37701172.0,-37745172.0,-37773604.0,-37798436.0,-37820860.0,-37894608.0,-37938296.0,-37980592.0,-37990208.0,-38053084.0,-38109188.0,-38119316.0,-38187944.0,-38233484.0,-38249012.0,-38300120.0,-38342220.0,-38365796.0,-38414688.0,-38447972.0,-38472832.0,-38508884.0,-38514516.0,-38551412.0,-38598276.0,-38608976.0,-38669532.0,-38695748.0,-38711056.0,-38738004.0,-38771864.0,-38802836.0,-38844736.0,-38847144.0,-38892424.0,-38917612.0,-38930692.0,-38957876.0,-38958024.0,-38984144.0,-39024564.0,-39043960.0,-39062588.0,-39075844.0,-39094260.0,-39099096.0,-39115768.0,-39154856.0,-39164312.0,-39214884.0,-39230640.0,-39241456.0,-39256984.0,-39260164.0,-39273236.0,-39312692.0,-39330272.0,-39346532.0,-39355472.0,-39371848.0,-39373876.0,-39387016.0,-39420744.0,-39423772.0,-39471792.0,-39483100.0,-39493528.0,-39502288.0,-39509840.0,-39512448.0,-39550596.0,-39575664.0,-39624016.0,-39635524.0,-39642700.0,-39652816.0,-39655804.0,-39662864.0,-39692568.0,-39706368.0,-39719436.0,-39723792.0,-39738332.0,-39752044.0,-39760716.0,-39776128.0,-39787592.0,-39795220.0,-39806604.0,-39811276.0,-39823556.0,-39836724.0,-39846060.0,-39861740.0,-39871180.0,-39878316.0,-39888056.0,-39892620.0,-39902716.0,-39916036.0,-39924448.0,-39941224.0,-39949560.0,-39956256.0,-39964892.0,-39968608.0,-39976800.0,-39990692.0,-39998208.0,-40016172.0,-40023900.0,-40029656.0,-40037560.0,-40040388.0,-40047096.0,-40062964.0,-40067788.0,-40089020.0,-40095784.0,-40100968.0,-40107544.0,-40109364.0,-40114172.0,-40132140.0,-40133956.0,-40158880.0,-40165148.0,-40169296.0,-40174952.0,-40175720.0,-40178812.0,-40199744.0,-40207460.0,-40215708.0,-40217576.0,-40226156.0,-40235836.0,-40240524.0,-40252676.0,-40260084.0,-40264088.0,-40269816.0,-40272812.0,-40277732.0,-40278320.0,-40280620.0,-40301344.0,-40311244.0,-40316868.0,-40317056.0,-40326716.0,-40334752.0,-40337980.0,-40347648.0,-40354632.0,-40357892.0,-40365120.0,-40365900.0,-40373908.0,-40382376.0,-40385552.0,-40395288.0,-40401720.0,-40405068.0,-40411108.0,-40412088.0,-40419108.0,-40428108.0,-40431456.0,-40442164.0,-40446992.0,-40450708.0,-40456360.0,-40457400.0,-40462880.0,-40472592.0,-40475448.0,-40487928.0,-40492476.0,-40496412.0,-40500788.0,-40502152.0,-40506024.0,-40516968.0,-40519836.0,-40534556.0,-40538572.0,-40541676.0,-40545412.0,-40546676.0,-40549244.0,-40561452.0,-40564004.0,-40580532.0,-40584416.0,-40587004.0,-40590252.0,-40591048.0,-40592796.0,-40606400.0,-40606536.0,-40625836.0,-40629540.0,-40631876.0,-40634608.0,-40634932.0,-40635884.0,-40651240.0,-40655712.0,-40661184.0,-40661352.0,-40667548.0,-40674116.0,-40675804.0,-40684100.0,-40688792.0,-40690920.0,-40695060.0,-40695944.0,-40699388.0,-40707152.0,-40711060.0,-40721788.0,-40726200.0,-40727908.0,-40730712.0,-40733192.0,-40734484.0,-40735160.0,-40747804.0,-40750120.0,-40766832.0,-40769792.0,-40772212.0,-40774288.0,-40775108.0,-40776204.0,-40788424.0,-40796352.0,-40798048.0,-40799156.0,-40804088.0,-40810104.0,-40811212.0,-40817352.0,-40821672.0,-40823912.0,-40827240.0,-40828368.0,-40831804.0,-40837500.0,-40841504.0,-40849184.0,-40852792.0,-40855000.0,-40857912.0,-40860012.0,-40861604.0,-40862432.0,-40871604.0,-40879040.0,-40890848.0,-40893572.0,-40895796.0,-40898220.0,-40899584.0,-40900896.0,-40909504.0,-40913028.0,-40924732.0,-40927372.0,-40929384.0,-40931384.0,-40932188.0,-40933200.0,-40942724.0,-40943240.0,-40956632.0,-40959260.0,-40960768.0,-40962480.0,-40963376.0,-40963888.0,-40974792.0,-40978100.0,-40982256.0,-40986064.0,-40987560.0,-40991232.0,-40992388.0,-40996224.0,-41000640.0,-41002108.0,-41006680.0,-41010176.0,-41012072.0,-41015112.0,-41016336.0,-41019576.0,-41023764.0,-41026296.0,-41031400.0,-41034380.0,-41036516.0,-41039080.0,-41040496.0,-41043012.0,-41047500.0,-41051072.0,-41056852.0,-41059912.0,-41061540.0,-41063744.0,-41064932.0,-41067104.0,-41067328.0,-41068228.0,-41077644.0,-41082368.0,-41084364.0,-41087176.0,-41089448.0,-41092596.0,-41093284.0,-41096396.0,-41100472.0,-41102808.0,-41107152.0,-41110300.0,-41111908.0,-41114792.0,-41115600.0,-41118128.0,-41122788.0,-41125080.0,-41129456.0,-41132820.0,-41133528.0,-41135680.0,-41137272.0,-41139300.0,-41143284.0,-41147368.0,-41152236.0,-41156388.0,-41157084.0,-41159072.0,-41160660.0,-41162352.0,-41163160.0,-41163732.0,-41171340.0,-41177104.0,-41177604.0,-41178104.0,-41181612.0,-41185692.0,-41186620.0,-41190516.0,-41193988.0,-41194844.0,-41197604.0,-41198428.0,-41200776.0,-41204692.0,-41205680.0,-41211100.0,-41214736.0,-41215092.0,-41217220.0,-41218272.0,-41219696.0,-41224504.0,-41228028.0,-41234764.0,-41237976.0,-41238292.0,-41239876.0,-41241276.0,-41241908.0,-41242800.0,-41250028.0,-41250432.0,-41260516.0,-41262280.0,-41263884.0,-41264872.0,-41265148.0,-41265360.0,-41273364.0,-41277888.0,-41279244.0,-41279456.0,-41282764.0,-41286120.0,-41286504.0,-41290288.0,-41293240.0,-41294000.0,-41296120.0,-41296804.0,-41298996.0,-41302852.0,-41304300.0,-41309140.0,-41311888.0,-41313128.0,-41314876.0,-41315472.0,-41316776.0,-41321504.0,-41324032.0,-41330348.0,-41333460.0,-41333732.0,-41334924.0,-41336408.0,-41336728.0,-41337064.0,-41344312.0,-41348336.0,-41349464.0,-41349960.0,-41353184.0,-41356192.0,-41356900.0,-41359952.0,-41363116.0,-41363704.0,-41365744.0,-41366352.0,-41368208.0,-41371956.0,-41372888.0,-41376812.0,-41379800.0,-41380072.0,-41381864.0,-41382596.0,-41383932.0,-41384160.0,-41384572.0,-41391656.0,-41395256.0,-41396604.0,-41398344.0,-41400020.0,-41401940.0,-41402792.0,-41405048.0,-41408168.0,-41409752.0,-41412888.0,-41414984.0,-41416256.0,-41418004.0,-41419020.0,-41420584.0,-41420960.0,-41421884.0,-41427060.0,-41427796.0,-41434964.0,-41436156.0,-41437524.0,-41438580.0,-41439400.0,-41443688.0,-41447412.0,-41452820.0,-41454804.0,-41455644.0,-41456964.0,-41457896.0,-41458428.0,-41458568.0,-41464392.0,-41464832.0,-41473412.0,-41474656.0,-41475596.0,-41476692.0,-41477148.0,-41482148.0,-41485340.0,-41491516.0,-41492776.0,-41494048.0,-41495296.0,-41495992.0,-41496496.0,-41501816.0,-41503992.0,-41510632.0,-41512128.0,-41513240.0,-41514420.0,-41514900.0,-41515284.0,-41520532.0,-41521020.0,-41528140.0,-41529420.0,-41530416.0,-41531180.0,-41531436.0,-41535976.0,-41540160.0,-41546364.0,-41547728.0,-41548860.0,-41549992.0,-41550496.0,-41551340.0,-41555716.0,-41556832.0,-41563320.0,-41564184.0,-41565356.0,-41566448.0,-41566916.0,-41567244.0,-41572576.0,-41575936.0,-41577024.0,-41578456.0,-41579804.0,-41581272.0,-41582096.0,-41583604.0,-41584032.0,-41585444.0,-41589404.0,-41591520.0,-41592128.0,-41592844.0,-41594716.0,-41594740.0,-41596528.0,-41599408.0,-41600156.0,-41603652.0,-41605920.0,-41605964.0,-41607284.0,-41607528.0,-41608688.0,-41612288.0,-41612648.0,-41617208.0,-41619488.0,-41620296.0,-41624768.0,-41626452.0,-41628096.0,-41630128.0,-41631708.0,-41632740.0,-41634148.0,-41634696.0,-41636252.0,-41638772.0,-41639908.0,-41642500.0,-41643876.0,-41644592.0,-41646040.0,-41647032.0,-41648048.0,-41648216.0,-41648872.0,-41652988.0,-41655756.0,-41655880.0,-41656536.0,-41658480.0,-41660744.0,-41661436.0,-41663612.0,-41665848.0,-41666504.0,-41667816.0,-41668312.0,-41669540.0,-41671880.0,-41673328.0,-41676308.0,-41678276.0,-41678512.0,-41679608.0,-41680268.0,-41681108.0,-41681312.0,-41681380.0,-41686436.0,-41690580.0,-41691460.0,-41693440.0,-41694760.0,-41695584.0,-41697120.0,-41697180.0,-41697280.0,-41700264.0,-41702468.0,-41703000.0,-41710076.0,-41711236.0,-41712792.0,-41714052.0,-41715180.0,-41716556.0,-41717008.0,-41717104.0,-41719712.0,-41720328.0,-41723168.0,-41724692.0,-41725360.0,-41726344.0,-41727376.0,-41728148.0,-41731096.0,-41733584.0,-41737008.0,-41738520.0,-41738936.0,-41739560.0,-41740400.0,-41740700.0,-41741356.0,-41745036.0,-41745904.0,-41750348.0,-41751292.0,-41752156.0,-41752900.0,-41753256.0,-41753276.0,-41757472.0,-41758840.0,-41764016.0,-41765184.0,-41766020.0,-41766776.0,-41766980.0,-41767072.0,-41771132.0,-41771360.0,-41776824.0,-41777600.0,-41778596.0,-41779248.0,-41779500.0,-41779696.0,-41784264.0,-41787316.0,-41787872.0,-41789664.0,-41791032.0,-41791528.0,-41793156.0,-41794468.0,-41798512.0,-41799624.0,-41800784.0,-41801060.0,-41804028.0,-41805020.0,-41806664.0,-41807864.0,-41810528.0,-41812120.0,-41813208.0,-41814420.0,-41816188.0,-41817260.0,-41818544.0,-41819776.0,-41820640.0,-41822356.0,-41823420.0,-41824740.0,-41825844.0,-41826960.0,-41827940.0,-41828880.0,-41829860.0,-41830756.0,-41835428.0,-41840108.0,-41841052.0,-41842924.0],\"type\":\"scatter\"}],                        {\"template\":{\"data\":{\"barpolar\":[{\"marker\":{\"line\":{\"color\":\"#E5ECF6\",\"width\":0.5},\"pattern\":{\"fillmode\":\"overlay\",\"size\":10,\"solidity\":0.2}},\"type\":\"barpolar\"}],\"bar\":[{\"error_x\":{\"color\":\"#2a3f5f\"},\"error_y\":{\"color\":\"#2a3f5f\"},\"marker\":{\"line\":{\"color\":\"#E5ECF6\",\"width\":0.5},\"pattern\":{\"fillmode\":\"overlay\",\"size\":10,\"solidity\":0.2}},\"type\":\"bar\"}],\"carpet\":[{\"aaxis\":{\"endlinecolor\":\"#2a3f5f\",\"gridcolor\":\"white\",\"linecolor\":\"white\",\"minorgridcolor\":\"white\",\"startlinecolor\":\"#2a3f5f\"},\"baxis\":{\"endlinecolor\":\"#2a3f5f\",\"gridcolor\":\"white\",\"linecolor\":\"white\",\"minorgridcolor\":\"white\",\"startlinecolor\":\"#2a3f5f\"},\"type\":\"carpet\"}],\"choropleth\":[{\"colorbar\":{\"outlinewidth\":0,\"ticks\":\"\"},\"type\":\"choropleth\"}],\"contourcarpet\":[{\"colorbar\":{\"outlinewidth\":0,\"ticks\":\"\"},\"type\":\"contourcarpet\"}],\"contour\":[{\"colorbar\":{\"outlinewidth\":0,\"ticks\":\"\"},\"colorscale\":[[0.0,\"#0d0887\"],[0.1111111111111111,\"#46039f\"],[0.2222222222222222,\"#7201a8\"],[0.3333333333333333,\"#9c179e\"],[0.4444444444444444,\"#bd3786\"],[0.5555555555555556,\"#d8576b\"],[0.6666666666666666,\"#ed7953\"],[0.7777777777777778,\"#fb9f3a\"],[0.8888888888888888,\"#fdca26\"],[1.0,\"#f0f921\"]],\"type\":\"contour\"}],\"heatmapgl\":[{\"colorbar\":{\"outlinewidth\":0,\"ticks\":\"\"},\"colorscale\":[[0.0,\"#0d0887\"],[0.1111111111111111,\"#46039f\"],[0.2222222222222222,\"#7201a8\"],[0.3333333333333333,\"#9c179e\"],[0.4444444444444444,\"#bd3786\"],[0.5555555555555556,\"#d8576b\"],[0.6666666666666666,\"#ed7953\"],[0.7777777777777778,\"#fb9f3a\"],[0.8888888888888888,\"#fdca26\"],[1.0,\"#f0f921\"]],\"type\":\"heatmapgl\"}],\"heatmap\":[{\"colorbar\":{\"outlinewidth\":0,\"ticks\":\"\"},\"colorscale\":[[0.0,\"#0d0887\"],[0.1111111111111111,\"#46039f\"],[0.2222222222222222,\"#7201a8\"],[0.3333333333333333,\"#9c179e\"],[0.4444444444444444,\"#bd3786\"],[0.5555555555555556,\"#d8576b\"],[0.6666666666666666,\"#ed7953\"],[0.7777777777777778,\"#fb9f3a\"],[0.8888888888888888,\"#fdca26\"],[1.0,\"#f0f921\"]],\"type\":\"heatmap\"}],\"histogram2dcontour\":[{\"colorbar\":{\"outlinewidth\":0,\"ticks\":\"\"},\"colorscale\":[[0.0,\"#0d0887\"],[0.1111111111111111,\"#46039f\"],[0.2222222222222222,\"#7201a8\"],[0.3333333333333333,\"#9c179e\"],[0.4444444444444444,\"#bd3786\"],[0.5555555555555556,\"#d8576b\"],[0.6666666666666666,\"#ed7953\"],[0.7777777777777778,\"#fb9f3a\"],[0.8888888888888888,\"#fdca26\"],[1.0,\"#f0f921\"]],\"type\":\"histogram2dcontour\"}],\"histogram2d\":[{\"colorbar\":{\"outlinewidth\":0,\"ticks\":\"\"},\"colorscale\":[[0.0,\"#0d0887\"],[0.1111111111111111,\"#46039f\"],[0.2222222222222222,\"#7201a8\"],[0.3333333333333333,\"#9c179e\"],[0.4444444444444444,\"#bd3786\"],[0.5555555555555556,\"#d8576b\"],[0.6666666666666666,\"#ed7953\"],[0.7777777777777778,\"#fb9f3a\"],[0.8888888888888888,\"#fdca26\"],[1.0,\"#f0f921\"]],\"type\":\"histogram2d\"}],\"histogram\":[{\"marker\":{\"pattern\":{\"fillmode\":\"overlay\",\"size\":10,\"solidity\":0.2}},\"type\":\"histogram\"}],\"mesh3d\":[{\"colorbar\":{\"outlinewidth\":0,\"ticks\":\"\"},\"type\":\"mesh3d\"}],\"parcoords\":[{\"line\":{\"colorbar\":{\"outlinewidth\":0,\"ticks\":\"\"}},\"type\":\"parcoords\"}],\"pie\":[{\"automargin\":true,\"type\":\"pie\"}],\"scatter3d\":[{\"line\":{\"colorbar\":{\"outlinewidth\":0,\"ticks\":\"\"}},\"marker\":{\"colorbar\":{\"outlinewidth\":0,\"ticks\":\"\"}},\"type\":\"scatter3d\"}],\"scattercarpet\":[{\"marker\":{\"colorbar\":{\"outlinewidth\":0,\"ticks\":\"\"}},\"type\":\"scattercarpet\"}],\"scattergeo\":[{\"marker\":{\"colorbar\":{\"outlinewidth\":0,\"ticks\":\"\"}},\"type\":\"scattergeo\"}],\"scattergl\":[{\"marker\":{\"colorbar\":{\"outlinewidth\":0,\"ticks\":\"\"}},\"type\":\"scattergl\"}],\"scattermapbox\":[{\"marker\":{\"colorbar\":{\"outlinewidth\":0,\"ticks\":\"\"}},\"type\":\"scattermapbox\"}],\"scatterpolargl\":[{\"marker\":{\"colorbar\":{\"outlinewidth\":0,\"ticks\":\"\"}},\"type\":\"scatterpolargl\"}],\"scatterpolar\":[{\"marker\":{\"colorbar\":{\"outlinewidth\":0,\"ticks\":\"\"}},\"type\":\"scatterpolar\"}],\"scatter\":[{\"fillpattern\":{\"fillmode\":\"overlay\",\"size\":10,\"solidity\":0.2},\"type\":\"scatter\"}],\"scatterternary\":[{\"marker\":{\"colorbar\":{\"outlinewidth\":0,\"ticks\":\"\"}},\"type\":\"scatterternary\"}],\"surface\":[{\"colorbar\":{\"outlinewidth\":0,\"ticks\":\"\"},\"colorscale\":[[0.0,\"#0d0887\"],[0.1111111111111111,\"#46039f\"],[0.2222222222222222,\"#7201a8\"],[0.3333333333333333,\"#9c179e\"],[0.4444444444444444,\"#bd3786\"],[0.5555555555555556,\"#d8576b\"],[0.6666666666666666,\"#ed7953\"],[0.7777777777777778,\"#fb9f3a\"],[0.8888888888888888,\"#fdca26\"],[1.0,\"#f0f921\"]],\"type\":\"surface\"}],\"table\":[{\"cells\":{\"fill\":{\"color\":\"#EBF0F8\"},\"line\":{\"color\":\"white\"}},\"header\":{\"fill\":{\"color\":\"#C8D4E3\"},\"line\":{\"color\":\"white\"}},\"type\":\"table\"}]},\"layout\":{\"annotationdefaults\":{\"arrowcolor\":\"#2a3f5f\",\"arrowhead\":0,\"arrowwidth\":1},\"autotypenumbers\":\"strict\",\"coloraxis\":{\"colorbar\":{\"outlinewidth\":0,\"ticks\":\"\"}},\"colorscale\":{\"diverging\":[[0,\"#8e0152\"],[0.1,\"#c51b7d\"],[0.2,\"#de77ae\"],[0.3,\"#f1b6da\"],[0.4,\"#fde0ef\"],[0.5,\"#f7f7f7\"],[0.6,\"#e6f5d0\"],[0.7,\"#b8e186\"],[0.8,\"#7fbc41\"],[0.9,\"#4d9221\"],[1,\"#276419\"]],\"sequential\":[[0.0,\"#0d0887\"],[0.1111111111111111,\"#46039f\"],[0.2222222222222222,\"#7201a8\"],[0.3333333333333333,\"#9c179e\"],[0.4444444444444444,\"#bd3786\"],[0.5555555555555556,\"#d8576b\"],[0.6666666666666666,\"#ed7953\"],[0.7777777777777778,\"#fb9f3a\"],[0.8888888888888888,\"#fdca26\"],[1.0,\"#f0f921\"]],\"sequentialminus\":[[0.0,\"#0d0887\"],[0.1111111111111111,\"#46039f\"],[0.2222222222222222,\"#7201a8\"],[0.3333333333333333,\"#9c179e\"],[0.4444444444444444,\"#bd3786\"],[0.5555555555555556,\"#d8576b\"],[0.6666666666666666,\"#ed7953\"],[0.7777777777777778,\"#fb9f3a\"],[0.8888888888888888,\"#fdca26\"],[1.0,\"#f0f921\"]]},\"colorway\":[\"#636efa\",\"#EF553B\",\"#00cc96\",\"#ab63fa\",\"#FFA15A\",\"#19d3f3\",\"#FF6692\",\"#B6E880\",\"#FF97FF\",\"#FECB52\"],\"font\":{\"color\":\"#2a3f5f\"},\"geo\":{\"bgcolor\":\"white\",\"lakecolor\":\"white\",\"landcolor\":\"#E5ECF6\",\"showlakes\":true,\"showland\":true,\"subunitcolor\":\"white\"},\"hoverlabel\":{\"align\":\"left\"},\"hovermode\":\"closest\",\"mapbox\":{\"style\":\"light\"},\"paper_bgcolor\":\"white\",\"plot_bgcolor\":\"#E5ECF6\",\"polar\":{\"angularaxis\":{\"gridcolor\":\"white\",\"linecolor\":\"white\",\"ticks\":\"\"},\"bgcolor\":\"#E5ECF6\",\"radialaxis\":{\"gridcolor\":\"white\",\"linecolor\":\"white\",\"ticks\":\"\"}},\"scene\":{\"xaxis\":{\"backgroundcolor\":\"#E5ECF6\",\"gridcolor\":\"white\",\"gridwidth\":2,\"linecolor\":\"white\",\"showbackground\":true,\"ticks\":\"\",\"zerolinecolor\":\"white\"},\"yaxis\":{\"backgroundcolor\":\"#E5ECF6\",\"gridcolor\":\"white\",\"gridwidth\":2,\"linecolor\":\"white\",\"showbackground\":true,\"ticks\":\"\",\"zerolinecolor\":\"white\"},\"zaxis\":{\"backgroundcolor\":\"#E5ECF6\",\"gridcolor\":\"white\",\"gridwidth\":2,\"linecolor\":\"white\",\"showbackground\":true,\"ticks\":\"\",\"zerolinecolor\":\"white\"}},\"shapedefaults\":{\"line\":{\"color\":\"#2a3f5f\"}},\"ternary\":{\"aaxis\":{\"gridcolor\":\"white\",\"linecolor\":\"white\",\"ticks\":\"\"},\"baxis\":{\"gridcolor\":\"white\",\"linecolor\":\"white\",\"ticks\":\"\"},\"bgcolor\":\"#E5ECF6\",\"caxis\":{\"gridcolor\":\"white\",\"linecolor\":\"white\",\"ticks\":\"\"}},\"title\":{\"x\":0.05},\"xaxis\":{\"automargin\":true,\"gridcolor\":\"white\",\"linecolor\":\"white\",\"ticks\":\"\",\"title\":{\"standoff\":15},\"zerolinecolor\":\"white\",\"zerolinewidth\":2},\"yaxis\":{\"automargin\":true,\"gridcolor\":\"white\",\"linecolor\":\"white\",\"ticks\":\"\",\"title\":{\"standoff\":15},\"zerolinecolor\":\"white\",\"zerolinewidth\":2}}},\"title\":{\"text\":\"Energy Minimization\"},\"xaxis\":{\"title\":{\"text\":\"Energy Minimization Step\"}},\"yaxis\":{\"title\":{\"text\":\"Potential Energy KJ/mol-1\"}}},                        {\"responsive\": true}                    ).then(function(){\n",
       "                            \n",
       "var gd = document.getElementById('5cc3bc62-1cc2-4b14-93ed-8202c0e579ee');\n",
       "var x = new MutationObserver(function (mutations, observer) {{\n",
       "        var display = window.getComputedStyle(gd).display;\n",
       "        if (!display || display === 'none') {{\n",
       "            console.log([gd, 'removed!']);\n",
       "            Plotly.purge(gd);\n",
       "            observer.disconnect();\n",
       "        }}\n",
       "}});\n",
       "\n",
       "// Listen for the removal of the full notebook cells\n",
       "var notebookContainer = gd.closest('#notebook-container');\n",
       "if (notebookContainer) {{\n",
       "    x.observe(notebookContainer, {childList: true});\n",
       "}}\n",
       "\n",
       "// Listen for the clearing of the current output cell\n",
       "var outputEl = gd.closest('.output');\n",
       "if (outputEl) {{\n",
       "    x.observe(outputEl, {childList: true});\n",
       "}}\n",
       "\n",
       "                        })                };                });            </script>        </div>"
      ]
     },
     "metadata": {},
     "output_type": "display_data"
    }
   ],
   "source": [
    "import plotly\n",
    "import plotly.graph_objs as go\n",
    "\n",
    "# Read data from file and filter energy values higher than 1000 Kj/mol^-1\n",
    "with open('a1101_crys_water_steepest_descent_potential.xvg','r') as energy_file:\n",
    "    x,y = map(\n",
    "        list,\n",
    "        zip(*[\n",
    "            (float(line.split()[0]),float(line.split()[1]))\n",
    "            for line in energy_file \n",
    "            if not line.startswith((\"#\",\"@\")) \n",
    "            if float(line.split()[1]) < 1000 \n",
    "        ])\n",
    "    )\n",
    "\n",
    "plotly.offline.init_notebook_mode(connected=True)\n",
    "\n",
    "fig = ({\n",
    "    \"data\": [go.Scatter(x=x, y=y)],\n",
    "    \"layout\": go.Layout(title=\"Energy Minimization\",\n",
    "                        xaxis=dict(title = \"Energy Minimization Step\"),\n",
    "                        yaxis=dict(title = \"Potential Energy KJ/mol-1\")\n",
    "                       )\n",
    "})\n",
    "\n",
    "plotly.offline.iplot(fig)"
   ]
  },
  {
   "cell_type": "markdown",
   "id": "f1705ac5",
   "metadata": {},
   "source": [
    "# Step 11.1: Modify nvt.mdp file"
   ]
  },
  {
   "cell_type": "code",
   "execution_count": 17,
   "id": "b63fea6e",
   "metadata": {},
   "outputs": [
    {
     "name": "stdout",
     "output_type": "stream",
     "text": [
      "em_steepest_descent.mdp  ion_crys_water.mdp  md_6id4.mdp  npt_6id4.mdp\r\n",
      "ion_crys_water_copy.mdp  ions.mdp            mdout.mdp    nvt_6id4.mdp\r\n"
     ]
    }
   ],
   "source": [
    "%ls *.mdp"
   ]
  },
  {
   "cell_type": "code",
   "execution_count": 18,
   "id": "899d18b7",
   "metadata": {},
   "outputs": [
    {
     "name": "stdout",
     "output_type": "stream",
     "text": [
      "title                   = 6id4 equilibration \r\n",
      "define                  = -DPOSRES  ; position restrain the protein\r\n",
      "\r\n",
      "; Parameters describing what to do, when to stop and what to save\r\n",
      "integrator              = md        ; leap-frog integrator\r\n",
      "dt                      = 0.002     ; 2 fs\r\n",
      "nsteps                  = 500000     ; 2 * 500000 = 1000 ps= 1ns\r\n",
      "nstenergy               = 500       ; save energy and temperature every 1.0 ps\r\n",
      "\r\n",
      "; periodic boundary condition\r\n",
      "pbc                     = xyz       ;\r\n",
      "\r\n",
      "; Keep system temperature fluctuating physically correct\r\n",
      "tcoupl                  = V-rescale           ; modified Berendsen thermostat\r\n",
      "tc-grps                 = Protein SOL Ion   ; coupling groups \r\n",
      "tau_t                   = 0.1      0.1 0.1    ; time constant, in ps\r\n",
      "ref_t                   = 300      300 300; reference temperature, one for each group, in K\r\n",
      "\r\n",
      "; Pressure coupling is off\r\n",
      "pcoupl                  = no\r\n",
      "\r\n",
      "; Velocity generation\r\n",
      "gen_vel                 = yes                 ; assign velocities from Maxwell distribution\r\n",
      "gen_temp                = 300                 ; temperature for Maxwell distribution\r\n",
      "\r\n",
      "; Settings that make sure we run with parameters in harmony with the selected force-field\r\n",
      "constraints             = h-bonds  ; bonds involving H are constrained\r\n",
      "constraint_algorithm    = lincs\r\n",
      "cutoff-scheme           = Verlet\r\n",
      "\r\n",
      "vdwtype                 = Cut-off\r\n",
      "rcoulomb                = 1.0       ; short-range electrostatic cutoff (in nm)\r\n",
      "rvdw                    = 1.0       ; short-range van der Waals cutoff (in nm)\r\n",
      "\r\n",
      "\r\n",
      ";in case of CHARMM DispCorr = EnerPres only for monolayers\r\n",
      "coulombtype             = PME       ; Particle Mesh Ewald for long-range electrostatics\r\n",
      "fourierspacing          = 0.15     ; grid spacing for FFT\r\n",
      "\r\n"
     ]
    }
   ],
   "source": [
    "%cat nvt_6id4.mdp"
   ]
  },
  {
   "cell_type": "code",
   "execution_count": 19,
   "id": "2c107099",
   "metadata": {},
   "outputs": [
    {
     "name": "stdout",
     "output_type": "stream",
     "text": [
      ";\r\n",
      ";\tFile '6id4_crys_water_protonated_pdb2gmx.top' was generated\r\n",
      ";\tBy user: sampurna (8231)\r\n",
      ";\tOn host: codon-slurm-login-02.ebi.ac.uk\r\n",
      ";\tAt date: Tue May 16 18:03:23 2023\r\n",
      ";\r\n",
      ";\tThis is a standalone topology file\r\n",
      ";\r\n",
      ";\tCreated by:\r\n",
      ";\t                     :-) GROMACS - gmx pdb2gmx, 2022 (-:\r\n",
      ";\t\r\n",
      ";\tExecutable:   /hps/software/users/chembl/sampurnam/bin/gmx_mpi\r\n",
      ";\tData prefix:  /hps/software/users/chembl/sampurnam\r\n",
      ";\tWorking dir:  /hps/software/users/chembl/sampurnam/sims_02_05_2023/6id4_plain/a1101_crystal_water\r\n",
      ";\tCommand line:\r\n",
      ";\t  gmx_mpi pdb2gmx -f 6id4_with_crystal_water_mol_probity.pdb -o 6id4_crys_water_protonated_pdb2gmx.gro -water tip3p -p 6id4_crys_water_protonated_pdb2gmx.top -ignh\r\n",
      ";\tForce field was read from the standard GROMACS share directory.\r\n",
      ";\r\n",
      "\r\n",
      "; Include forcefield parameters\r\n",
      "#include \"amber99sb.ff/forcefield.itp\"\r\n",
      "\r\n",
      "; Include chain topologies\r\n",
      "#include \"6id4_crys_water_protonated_pdb2gmx_Protein_chain_A.itp\"\r\n",
      "#include \"6id4_crys_water_protonated_pdb2gmx_Protein_chain_B.itp\"\r\n",
      "#include \"6id4_crys_water_protonated_pdb2gmx_Protein_chain_C.itp\"\r\n",
      "#include \"6id4_crys_water_protonated_pdb2gmx_Protein_chain_D.itp\"\r\n",
      "#include \"6id4_crys_water_protonated_pdb2gmx_Protein_chain_E.itp\"\r\n",
      "\r\n",
      ";Include crys_water topology\r\n",
      "#include \"crys_water.itp\"\r\n",
      "\r\n",
      ";Include water topology\r\n",
      "#include \"amber99sb.ff/tip3p.itp\"\r\n",
      "\r\n",
      "#ifdef POSRES_WATER\r\n",
      "; Position restraint for each water oxygen\r\n",
      "[ position_restraints ]\r\n",
      ";  i funct       fcx        fcy        fcz\r\n",
      "   1    1       1000       1000       1000\r\n",
      "#endif\r\n",
      "\r\n",
      "; Include topology for ions\r\n",
      "#include \"amber99sb.ff/ions.itp\"\r\n",
      "\r\n",
      "[ system ]\r\n",
      "; Name\r\n",
      "Protein in water\r\n",
      "\r\n",
      "[ molecules ]\r\n",
      "; Compound        #mols\r\n",
      "Protein_chain_A     1\r\n",
      "Protein_chain_B     1\r\n",
      "Protein_chain_C     1\r\n",
      "Protein_chain_D     1\r\n",
      "Protein_chain_E     1\r\n",
      "crys_water          185\r\n",
      "crys_water          70\r\n",
      "crys_water          98\r\n",
      "crys_water          88\r\n",
      "crys_water          6\r\n",
      "SOL         840511\r\n",
      "NA               2349\r\n",
      "CL               2346\r\n"
     ]
    }
   ],
   "source": [
    "%cat 6id4_crys_water_protonated_pdb2gmx.top"
   ]
  },
  {
   "cell_type": "code",
   "execution_count": 20,
   "id": "4c716896",
   "metadata": {},
   "outputs": [],
   "source": [
    "#copy top file\n",
    "%cp 6id4_crys_water_protonated_pdb2gmx.top a1101_water_after_em.top"
   ]
  },
  {
   "cell_type": "markdown",
   "id": "d4a6cd57",
   "metadata": {},
   "source": [
    "# Change\n",
    "- vdwtype = coulomb to PME\n",
    "- do not add crys_water in tc-groups\n",
    "- add tau-t and ref-t values to be same as others accordingly\n",
    "- vdwtype = PME\n",
    "-  rvdw = 0.9\n",
    "-   vdw-modifier = Potential-Shift\n",
    "-    rlist = 0.9\n",
    "- rcoulomb = 0.9\n",
    "-  fourierspacing = 0.12\n",
    "-  pme-order = 4\n",
    "-  ewald-rtol-lj = 0.001\n",
    "-   lj-pme-comb-rule = geometric\n",
    "-   DispCorr = EnerPres\n",
    "-   save coordinates very 10 ps instead of 1 ps\n"
   ]
  },
  {
   "cell_type": "code",
   "execution_count": 21,
   "id": "ae3ecda0",
   "metadata": {},
   "outputs": [],
   "source": [
    "%cp nvt_6id4.mdp a1101_water_nvt.mdp"
   ]
  },
  {
   "cell_type": "code",
   "execution_count": null,
   "id": "468abe2f",
   "metadata": {},
   "outputs": [],
   "source": [
    "#vi a1101_water_nvt.mdp"
   ]
  },
  {
   "cell_type": "code",
   "execution_count": null,
   "id": "ff07c142-b8f6-4c62-b78c-2f304dccb25a",
   "metadata": {},
   "outputs": [],
   "source": [
    "%cp a1101_water_nvt.mdp a1101_tc_grp_removed.mdp"
   ]
  },
  {
   "cell_type": "code",
   "execution_count": 30,
   "id": "cfdae872",
   "metadata": {},
   "outputs": [
    {
     "name": "stdout",
     "output_type": "stream",
     "text": [
      "title                   = 6id4 equilibration NVT\r\n",
      "define                  = -DPOSRES  ; position restrain the protein\r\n",
      "\r\n",
      "; Parameters describing what to do, when to stop and what to save\r\n",
      "integrator              = md        ; leap-frog integrator\r\n",
      "dt                      = 0.002     ; 2 fs\r\n",
      "nsteps                  = 500000     ; 2 * 500000 = 1000 ps= 1ns\r\n",
      "nstenergy               = 500       ; save energy and temperature every 1.0 ps\r\n",
      "\r\n",
      "; periodic boundary condition\r\n",
      "pbc                     = xyz       ;\r\n",
      "\r\n",
      "; Keep system temperature fluctuating physically correct\r\n",
      "tcoupl                  = V-rescale           ; modified Berendsen thermostat\r\n",
      "tc-grps                 = Protein SOL Ion  ; coupling groups \r\n",
      "tau_t                   = 0.1      0.1 0.1     ; time constant, in ps\r\n",
      "ref_t                   = 300      300 300 ; reference temperature, one for each group, in K\r\n",
      "\r\n",
      "; Pressure coupling is off\r\n",
      "pcoupl                  = no\r\n",
      "\r\n",
      "; Velocity generation\r\n",
      "gen_vel                 = yes                 ; assign velocities from Maxwell distribution\r\n",
      "gen_temp                = 300                 ; temperature for Maxwell distribution\r\n",
      "\r\n",
      "; Settings that make sure we run with parameters in harmony with the selected force-field\r\n",
      "constraints             = h-bonds  ; bonds involving H are constrained\r\n",
      "constraint_algorithm    = lincs\r\n",
      "cutoff-scheme           = Verlet\r\n",
      "\r\n",
      "vdwtype          = PME\r\n",
      "rvdw             = 0.9 ;in nm, cutoff for Van Der Waals\r\n",
      "vdw-modifier     = Potential-Shift\r\n",
      "rlist            = 0.9\r\n",
      "rcoulomb         = 0.9 ;in nm, cut off for coulombic interaction\r\n",
      "fourierspacing   = 0.12\r\n",
      "pme-order        = 4\r\n",
      "ewald-rtol-lj    = 0.001\r\n",
      "lj-pme-comb-rule = geometric\r\n",
      "\r\n",
      ";in case of CHARMM DispCorr = EnerPres only for monolayers\r\n",
      "coulombtype             = PME       ; Particle Mesh Ewald for long-range electrostatics\r\n",
      ";fourierspacing          = 0.15     ; grid spacing for FFT\r\n",
      "\r\n"
     ]
    }
   ],
   "source": [
    "%cat a1101_tc_grp_removed.mdp"
   ]
  },
  {
   "cell_type": "code",
   "execution_count": 2,
   "id": "6cbef67f",
   "metadata": {},
   "outputs": [],
   "source": [
    "#%cat crys_water.itp"
   ]
  },
  {
   "cell_type": "markdown",
   "id": "98eb72ec",
   "metadata": {},
   "source": [
    "# Step 11.2: Create the nvt.tpr"
   ]
  },
  {
   "cell_type": "code",
   "execution_count": null,
   "id": "1733de25",
   "metadata": {},
   "outputs": [],
   "source": [
    "#first, create an  index file with protein and water groups\n",
    "\n",
    "gmx_mpi make_ndx -f em_a1101_crys_water_steepest_descent.gro -o a1101_water_post_em.ndx"
   ]
  },
  {
   "cell_type": "code",
   "execution_count": null,
   "id": "c59051c7",
   "metadata": {},
   "outputs": [],
   "source": [
    "#Running grompp for nvt.tpr\n",
    "gmx_mpi grompp -f a1101_tc_grp_removed.mdp -c em_a1101_crys_water_steepest_descent.gro -r em_a1101_crys_water_steepest_descent.gro -p 6id4_crys_water_protonated_pdb2gmx.top -o a1101_water_nvt.tpr -n a1101_water_post_em.ndx"
   ]
  },
  {
   "cell_type": "markdown",
   "id": "7b39d7c8",
   "metadata": {},
   "source": [
    "# Step 11.3: NVT MDrun using sbatch in SLURM cluster"
   ]
  },
  {
   "cell_type": "code",
   "execution_count": null,
   "id": "fb5ed047",
   "metadata": {},
   "outputs": [],
   "source": [
    "sbatch --mem=100G --time=08:00:00 -c 12 --gpus=v100:1 --wrap=\"gmx_mpi mdrun -deffnm a1101_crys_w\n",
    "ater_nvt_with_batch_file -s a1101_water_pme_fixed_nvt_with_batch_file.tpr -nb gpu -ntomp 12\""
   ]
  },
  {
   "cell_type": "code",
   "execution_count": null,
   "id": "d3247509",
   "metadata": {},
   "outputs": [],
   "source": [
    "%cat a1101_crys_water_nvt_with_batch_file.log"
   ]
  },
  {
   "cell_type": "markdown",
   "id": "87e8d957",
   "metadata": {},
   "source": [
    "# Step 11.4 : Visualize temperature change during NVT\n",
    "\n",
    "\n",
    "gmx_mpi energy -f a1101_crys_water_nvt_with_batch_file.edr -o a1101_crys_water_nvt_temperature.xvg -xvg none (then 17 0)"
   ]
  },
  {
   "cell_type": "code",
   "execution_count": 1,
   "id": "6ec57da6",
   "metadata": {},
   "outputs": [
    {
     "data": {
      "text/html": [
       "        <script type=\"text/javascript\">\n",
       "        window.PlotlyConfig = {MathJaxConfig: 'local'};\n",
       "        if (window.MathJax && window.MathJax.Hub && window.MathJax.Hub.Config) {window.MathJax.Hub.Config({SVG: {font: \"STIX-Web\"}});}\n",
       "        if (typeof require !== 'undefined') {\n",
       "        require.undef(\"plotly\");\n",
       "        requirejs.config({\n",
       "            paths: {\n",
       "                'plotly': ['https://cdn.plot.ly/plotly-2.20.0.min']\n",
       "            }\n",
       "        });\n",
       "        require(['plotly'], function(Plotly) {\n",
       "            window._Plotly = Plotly;\n",
       "        });\n",
       "        }\n",
       "        </script>\n",
       "        "
      ]
     },
     "metadata": {},
     "output_type": "display_data"
    },
    {
     "data": {
      "application/vnd.plotly.v1+json": {
       "config": {
        "linkText": "Export to plot.ly",
        "plotlyServerURL": "https://plot.ly",
        "showLink": false
       },
       "data": [
        {
         "type": "scatter",
         "x": [
          0,
          10,
          20,
          30,
          40,
          50,
          60,
          70,
          80,
          90,
          100,
          110,
          120,
          130,
          140,
          150,
          160,
          170,
          180,
          190,
          200,
          210,
          220,
          230,
          240,
          250,
          260,
          270,
          280,
          290,
          300,
          310,
          320,
          330,
          340,
          350,
          360,
          370,
          380,
          390,
          400,
          410,
          420,
          430,
          440,
          450,
          460,
          470,
          480,
          490,
          500,
          510,
          520,
          530,
          540,
          550,
          560,
          570,
          580,
          590,
          600,
          610,
          620,
          630,
          640,
          650,
          660,
          670,
          680,
          690,
          700,
          710,
          720,
          730,
          740,
          750,
          760,
          770,
          780,
          790,
          800,
          810,
          820,
          830,
          840,
          850,
          860,
          870,
          880,
          890,
          900,
          910,
          920,
          930,
          940,
          950,
          960,
          970,
          980,
          990,
          1000
         ],
         "y": [
          303.378174,
          300.075073,
          300.019318,
          299.937866,
          300.110321,
          299.992798,
          299.851501,
          300.035217,
          300.334747,
          299.856659,
          300.113495,
          300.456238,
          300.147766,
          299.776855,
          300.174896,
          299.851807,
          300.343292,
          300.137817,
          299.940796,
          299.990295,
          299.94281,
          299.86911,
          299.9505,
          299.716614,
          299.731689,
          299.970154,
          299.736328,
          299.784149,
          299.944641,
          300.257355,
          300.069,
          300.090332,
          299.938385,
          299.821472,
          300.187134,
          300.028595,
          299.763794,
          299.966766,
          299.979828,
          299.760681,
          299.967072,
          299.931549,
          300.149567,
          300.496796,
          299.961487,
          299.701263,
          299.746826,
          299.773712,
          299.749756,
          300.044861,
          299.841675,
          299.724731,
          299.896423,
          300.18457,
          300.039429,
          300.170654,
          299.959198,
          300.07605,
          299.970917,
          300.329742,
          299.88855,
          299.808716,
          300.010834,
          299.923309,
          300.411804,
          300.16275,
          300.029633,
          300.18573,
          300.169983,
          300.214294,
          300.187042,
          299.952972,
          300.047333,
          300.148529,
          299.874847,
          300.03244,
          300.256989,
          300.085815,
          300.193695,
          299.705505,
          299.987274,
          299.910767,
          300.107391,
          300.118927,
          299.689453,
          299.781616,
          300.036743,
          299.940552,
          299.90097,
          299.831635,
          299.982544,
          299.479706,
          300.021606,
          300.199554,
          300.167358,
          300.015808,
          299.847534,
          299.836792,
          300.032867,
          300.149567,
          300.106537
         ]
        }
       ],
       "layout": {
        "template": {
         "data": {
          "bar": [
           {
            "error_x": {
             "color": "#2a3f5f"
            },
            "error_y": {
             "color": "#2a3f5f"
            },
            "marker": {
             "line": {
              "color": "#E5ECF6",
              "width": 0.5
             },
             "pattern": {
              "fillmode": "overlay",
              "size": 10,
              "solidity": 0.2
             }
            },
            "type": "bar"
           }
          ],
          "barpolar": [
           {
            "marker": {
             "line": {
              "color": "#E5ECF6",
              "width": 0.5
             },
             "pattern": {
              "fillmode": "overlay",
              "size": 10,
              "solidity": 0.2
             }
            },
            "type": "barpolar"
           }
          ],
          "carpet": [
           {
            "aaxis": {
             "endlinecolor": "#2a3f5f",
             "gridcolor": "white",
             "linecolor": "white",
             "minorgridcolor": "white",
             "startlinecolor": "#2a3f5f"
            },
            "baxis": {
             "endlinecolor": "#2a3f5f",
             "gridcolor": "white",
             "linecolor": "white",
             "minorgridcolor": "white",
             "startlinecolor": "#2a3f5f"
            },
            "type": "carpet"
           }
          ],
          "choropleth": [
           {
            "colorbar": {
             "outlinewidth": 0,
             "ticks": ""
            },
            "type": "choropleth"
           }
          ],
          "contour": [
           {
            "colorbar": {
             "outlinewidth": 0,
             "ticks": ""
            },
            "colorscale": [
             [
              0,
              "#0d0887"
             ],
             [
              0.1111111111111111,
              "#46039f"
             ],
             [
              0.2222222222222222,
              "#7201a8"
             ],
             [
              0.3333333333333333,
              "#9c179e"
             ],
             [
              0.4444444444444444,
              "#bd3786"
             ],
             [
              0.5555555555555556,
              "#d8576b"
             ],
             [
              0.6666666666666666,
              "#ed7953"
             ],
             [
              0.7777777777777778,
              "#fb9f3a"
             ],
             [
              0.8888888888888888,
              "#fdca26"
             ],
             [
              1,
              "#f0f921"
             ]
            ],
            "type": "contour"
           }
          ],
          "contourcarpet": [
           {
            "colorbar": {
             "outlinewidth": 0,
             "ticks": ""
            },
            "type": "contourcarpet"
           }
          ],
          "heatmap": [
           {
            "colorbar": {
             "outlinewidth": 0,
             "ticks": ""
            },
            "colorscale": [
             [
              0,
              "#0d0887"
             ],
             [
              0.1111111111111111,
              "#46039f"
             ],
             [
              0.2222222222222222,
              "#7201a8"
             ],
             [
              0.3333333333333333,
              "#9c179e"
             ],
             [
              0.4444444444444444,
              "#bd3786"
             ],
             [
              0.5555555555555556,
              "#d8576b"
             ],
             [
              0.6666666666666666,
              "#ed7953"
             ],
             [
              0.7777777777777778,
              "#fb9f3a"
             ],
             [
              0.8888888888888888,
              "#fdca26"
             ],
             [
              1,
              "#f0f921"
             ]
            ],
            "type": "heatmap"
           }
          ],
          "heatmapgl": [
           {
            "colorbar": {
             "outlinewidth": 0,
             "ticks": ""
            },
            "colorscale": [
             [
              0,
              "#0d0887"
             ],
             [
              0.1111111111111111,
              "#46039f"
             ],
             [
              0.2222222222222222,
              "#7201a8"
             ],
             [
              0.3333333333333333,
              "#9c179e"
             ],
             [
              0.4444444444444444,
              "#bd3786"
             ],
             [
              0.5555555555555556,
              "#d8576b"
             ],
             [
              0.6666666666666666,
              "#ed7953"
             ],
             [
              0.7777777777777778,
              "#fb9f3a"
             ],
             [
              0.8888888888888888,
              "#fdca26"
             ],
             [
              1,
              "#f0f921"
             ]
            ],
            "type": "heatmapgl"
           }
          ],
          "histogram": [
           {
            "marker": {
             "pattern": {
              "fillmode": "overlay",
              "size": 10,
              "solidity": 0.2
             }
            },
            "type": "histogram"
           }
          ],
          "histogram2d": [
           {
            "colorbar": {
             "outlinewidth": 0,
             "ticks": ""
            },
            "colorscale": [
             [
              0,
              "#0d0887"
             ],
             [
              0.1111111111111111,
              "#46039f"
             ],
             [
              0.2222222222222222,
              "#7201a8"
             ],
             [
              0.3333333333333333,
              "#9c179e"
             ],
             [
              0.4444444444444444,
              "#bd3786"
             ],
             [
              0.5555555555555556,
              "#d8576b"
             ],
             [
              0.6666666666666666,
              "#ed7953"
             ],
             [
              0.7777777777777778,
              "#fb9f3a"
             ],
             [
              0.8888888888888888,
              "#fdca26"
             ],
             [
              1,
              "#f0f921"
             ]
            ],
            "type": "histogram2d"
           }
          ],
          "histogram2dcontour": [
           {
            "colorbar": {
             "outlinewidth": 0,
             "ticks": ""
            },
            "colorscale": [
             [
              0,
              "#0d0887"
             ],
             [
              0.1111111111111111,
              "#46039f"
             ],
             [
              0.2222222222222222,
              "#7201a8"
             ],
             [
              0.3333333333333333,
              "#9c179e"
             ],
             [
              0.4444444444444444,
              "#bd3786"
             ],
             [
              0.5555555555555556,
              "#d8576b"
             ],
             [
              0.6666666666666666,
              "#ed7953"
             ],
             [
              0.7777777777777778,
              "#fb9f3a"
             ],
             [
              0.8888888888888888,
              "#fdca26"
             ],
             [
              1,
              "#f0f921"
             ]
            ],
            "type": "histogram2dcontour"
           }
          ],
          "mesh3d": [
           {
            "colorbar": {
             "outlinewidth": 0,
             "ticks": ""
            },
            "type": "mesh3d"
           }
          ],
          "parcoords": [
           {
            "line": {
             "colorbar": {
              "outlinewidth": 0,
              "ticks": ""
             }
            },
            "type": "parcoords"
           }
          ],
          "pie": [
           {
            "automargin": true,
            "type": "pie"
           }
          ],
          "scatter": [
           {
            "fillpattern": {
             "fillmode": "overlay",
             "size": 10,
             "solidity": 0.2
            },
            "type": "scatter"
           }
          ],
          "scatter3d": [
           {
            "line": {
             "colorbar": {
              "outlinewidth": 0,
              "ticks": ""
             }
            },
            "marker": {
             "colorbar": {
              "outlinewidth": 0,
              "ticks": ""
             }
            },
            "type": "scatter3d"
           }
          ],
          "scattercarpet": [
           {
            "marker": {
             "colorbar": {
              "outlinewidth": 0,
              "ticks": ""
             }
            },
            "type": "scattercarpet"
           }
          ],
          "scattergeo": [
           {
            "marker": {
             "colorbar": {
              "outlinewidth": 0,
              "ticks": ""
             }
            },
            "type": "scattergeo"
           }
          ],
          "scattergl": [
           {
            "marker": {
             "colorbar": {
              "outlinewidth": 0,
              "ticks": ""
             }
            },
            "type": "scattergl"
           }
          ],
          "scattermapbox": [
           {
            "marker": {
             "colorbar": {
              "outlinewidth": 0,
              "ticks": ""
             }
            },
            "type": "scattermapbox"
           }
          ],
          "scatterpolar": [
           {
            "marker": {
             "colorbar": {
              "outlinewidth": 0,
              "ticks": ""
             }
            },
            "type": "scatterpolar"
           }
          ],
          "scatterpolargl": [
           {
            "marker": {
             "colorbar": {
              "outlinewidth": 0,
              "ticks": ""
             }
            },
            "type": "scatterpolargl"
           }
          ],
          "scatterternary": [
           {
            "marker": {
             "colorbar": {
              "outlinewidth": 0,
              "ticks": ""
             }
            },
            "type": "scatterternary"
           }
          ],
          "surface": [
           {
            "colorbar": {
             "outlinewidth": 0,
             "ticks": ""
            },
            "colorscale": [
             [
              0,
              "#0d0887"
             ],
             [
              0.1111111111111111,
              "#46039f"
             ],
             [
              0.2222222222222222,
              "#7201a8"
             ],
             [
              0.3333333333333333,
              "#9c179e"
             ],
             [
              0.4444444444444444,
              "#bd3786"
             ],
             [
              0.5555555555555556,
              "#d8576b"
             ],
             [
              0.6666666666666666,
              "#ed7953"
             ],
             [
              0.7777777777777778,
              "#fb9f3a"
             ],
             [
              0.8888888888888888,
              "#fdca26"
             ],
             [
              1,
              "#f0f921"
             ]
            ],
            "type": "surface"
           }
          ],
          "table": [
           {
            "cells": {
             "fill": {
              "color": "#EBF0F8"
             },
             "line": {
              "color": "white"
             }
            },
            "header": {
             "fill": {
              "color": "#C8D4E3"
             },
             "line": {
              "color": "white"
             }
            },
            "type": "table"
           }
          ]
         },
         "layout": {
          "annotationdefaults": {
           "arrowcolor": "#2a3f5f",
           "arrowhead": 0,
           "arrowwidth": 1
          },
          "autotypenumbers": "strict",
          "coloraxis": {
           "colorbar": {
            "outlinewidth": 0,
            "ticks": ""
           }
          },
          "colorscale": {
           "diverging": [
            [
             0,
             "#8e0152"
            ],
            [
             0.1,
             "#c51b7d"
            ],
            [
             0.2,
             "#de77ae"
            ],
            [
             0.3,
             "#f1b6da"
            ],
            [
             0.4,
             "#fde0ef"
            ],
            [
             0.5,
             "#f7f7f7"
            ],
            [
             0.6,
             "#e6f5d0"
            ],
            [
             0.7,
             "#b8e186"
            ],
            [
             0.8,
             "#7fbc41"
            ],
            [
             0.9,
             "#4d9221"
            ],
            [
             1,
             "#276419"
            ]
           ],
           "sequential": [
            [
             0,
             "#0d0887"
            ],
            [
             0.1111111111111111,
             "#46039f"
            ],
            [
             0.2222222222222222,
             "#7201a8"
            ],
            [
             0.3333333333333333,
             "#9c179e"
            ],
            [
             0.4444444444444444,
             "#bd3786"
            ],
            [
             0.5555555555555556,
             "#d8576b"
            ],
            [
             0.6666666666666666,
             "#ed7953"
            ],
            [
             0.7777777777777778,
             "#fb9f3a"
            ],
            [
             0.8888888888888888,
             "#fdca26"
            ],
            [
             1,
             "#f0f921"
            ]
           ],
           "sequentialminus": [
            [
             0,
             "#0d0887"
            ],
            [
             0.1111111111111111,
             "#46039f"
            ],
            [
             0.2222222222222222,
             "#7201a8"
            ],
            [
             0.3333333333333333,
             "#9c179e"
            ],
            [
             0.4444444444444444,
             "#bd3786"
            ],
            [
             0.5555555555555556,
             "#d8576b"
            ],
            [
             0.6666666666666666,
             "#ed7953"
            ],
            [
             0.7777777777777778,
             "#fb9f3a"
            ],
            [
             0.8888888888888888,
             "#fdca26"
            ],
            [
             1,
             "#f0f921"
            ]
           ]
          },
          "colorway": [
           "#636efa",
           "#EF553B",
           "#00cc96",
           "#ab63fa",
           "#FFA15A",
           "#19d3f3",
           "#FF6692",
           "#B6E880",
           "#FF97FF",
           "#FECB52"
          ],
          "font": {
           "color": "#2a3f5f"
          },
          "geo": {
           "bgcolor": "white",
           "lakecolor": "white",
           "landcolor": "#E5ECF6",
           "showlakes": true,
           "showland": true,
           "subunitcolor": "white"
          },
          "hoverlabel": {
           "align": "left"
          },
          "hovermode": "closest",
          "mapbox": {
           "style": "light"
          },
          "paper_bgcolor": "white",
          "plot_bgcolor": "#E5ECF6",
          "polar": {
           "angularaxis": {
            "gridcolor": "white",
            "linecolor": "white",
            "ticks": ""
           },
           "bgcolor": "#E5ECF6",
           "radialaxis": {
            "gridcolor": "white",
            "linecolor": "white",
            "ticks": ""
           }
          },
          "scene": {
           "xaxis": {
            "backgroundcolor": "#E5ECF6",
            "gridcolor": "white",
            "gridwidth": 2,
            "linecolor": "white",
            "showbackground": true,
            "ticks": "",
            "zerolinecolor": "white"
           },
           "yaxis": {
            "backgroundcolor": "#E5ECF6",
            "gridcolor": "white",
            "gridwidth": 2,
            "linecolor": "white",
            "showbackground": true,
            "ticks": "",
            "zerolinecolor": "white"
           },
           "zaxis": {
            "backgroundcolor": "#E5ECF6",
            "gridcolor": "white",
            "gridwidth": 2,
            "linecolor": "white",
            "showbackground": true,
            "ticks": "",
            "zerolinecolor": "white"
           }
          },
          "shapedefaults": {
           "line": {
            "color": "#2a3f5f"
           }
          },
          "ternary": {
           "aaxis": {
            "gridcolor": "white",
            "linecolor": "white",
            "ticks": ""
           },
           "baxis": {
            "gridcolor": "white",
            "linecolor": "white",
            "ticks": ""
           },
           "bgcolor": "#E5ECF6",
           "caxis": {
            "gridcolor": "white",
            "linecolor": "white",
            "ticks": ""
           }
          },
          "title": {
           "x": 0.05
          },
          "xaxis": {
           "automargin": true,
           "gridcolor": "white",
           "linecolor": "white",
           "ticks": "",
           "title": {
            "standoff": 15
           },
           "zerolinecolor": "white",
           "zerolinewidth": 2
          },
          "yaxis": {
           "automargin": true,
           "gridcolor": "white",
           "linecolor": "white",
           "ticks": "",
           "title": {
            "standoff": 15
           },
           "zerolinecolor": "white",
           "zerolinewidth": 2
          }
         }
        },
        "title": {
         "text": "Temperature during NVT Equilibration"
        },
        "xaxis": {
         "title": {
          "text": "Time (ps)"
         }
        },
        "yaxis": {
         "title": {
          "text": "Temperature (K)"
         }
        }
       }
      },
      "text/html": [
       "<div>                            <div id=\"aeb33036-9bab-4c32-a299-90818d385e33\" class=\"plotly-graph-div\" style=\"height:525px; width:100%;\"></div>            <script type=\"text/javascript\">                require([\"plotly\"], function(Plotly) {                    window.PLOTLYENV=window.PLOTLYENV || {};                                    if (document.getElementById(\"aeb33036-9bab-4c32-a299-90818d385e33\")) {                    Plotly.newPlot(                        \"aeb33036-9bab-4c32-a299-90818d385e33\",                        [{\"x\":[0.0,10.0,20.0,30.0,40.0,50.0,60.0,70.0,80.0,90.0,100.0,110.0,120.0,130.0,140.0,150.0,160.0,170.0,180.0,190.0,200.0,210.0,220.0,230.0,240.0,250.0,260.0,270.0,280.0,290.0,300.0,310.0,320.0,330.0,340.0,350.0,360.0,370.0,380.0,390.0,400.0,410.0,420.0,430.0,440.0,450.0,460.0,470.0,480.0,490.0,500.0,510.0,520.0,530.0,540.0,550.0,560.0,570.0,580.0,590.0,600.0,610.0,620.0,630.0,640.0,650.0,660.0,670.0,680.0,690.0,700.0,710.0,720.0,730.0,740.0,750.0,760.0,770.0,780.0,790.0,800.0,810.0,820.0,830.0,840.0,850.0,860.0,870.0,880.0,890.0,900.0,910.0,920.0,930.0,940.0,950.0,960.0,970.0,980.0,990.0,1000.0],\"y\":[303.378174,300.075073,300.019318,299.937866,300.110321,299.992798,299.851501,300.035217,300.334747,299.856659,300.113495,300.456238,300.147766,299.776855,300.174896,299.851807,300.343292,300.137817,299.940796,299.990295,299.94281,299.86911,299.9505,299.716614,299.731689,299.970154,299.736328,299.784149,299.944641,300.257355,300.069,300.090332,299.938385,299.821472,300.187134,300.028595,299.763794,299.966766,299.979828,299.760681,299.967072,299.931549,300.149567,300.496796,299.961487,299.701263,299.746826,299.773712,299.749756,300.044861,299.841675,299.724731,299.896423,300.18457,300.039429,300.170654,299.959198,300.07605,299.970917,300.329742,299.88855,299.808716,300.010834,299.923309,300.411804,300.16275,300.029633,300.18573,300.169983,300.214294,300.187042,299.952972,300.047333,300.148529,299.874847,300.03244,300.256989,300.085815,300.193695,299.705505,299.987274,299.910767,300.107391,300.118927,299.689453,299.781616,300.036743,299.940552,299.90097,299.831635,299.982544,299.479706,300.021606,300.199554,300.167358,300.015808,299.847534,299.836792,300.032867,300.149567,300.106537],\"type\":\"scatter\"}],                        {\"template\":{\"data\":{\"barpolar\":[{\"marker\":{\"line\":{\"color\":\"#E5ECF6\",\"width\":0.5},\"pattern\":{\"fillmode\":\"overlay\",\"size\":10,\"solidity\":0.2}},\"type\":\"barpolar\"}],\"bar\":[{\"error_x\":{\"color\":\"#2a3f5f\"},\"error_y\":{\"color\":\"#2a3f5f\"},\"marker\":{\"line\":{\"color\":\"#E5ECF6\",\"width\":0.5},\"pattern\":{\"fillmode\":\"overlay\",\"size\":10,\"solidity\":0.2}},\"type\":\"bar\"}],\"carpet\":[{\"aaxis\":{\"endlinecolor\":\"#2a3f5f\",\"gridcolor\":\"white\",\"linecolor\":\"white\",\"minorgridcolor\":\"white\",\"startlinecolor\":\"#2a3f5f\"},\"baxis\":{\"endlinecolor\":\"#2a3f5f\",\"gridcolor\":\"white\",\"linecolor\":\"white\",\"minorgridcolor\":\"white\",\"startlinecolor\":\"#2a3f5f\"},\"type\":\"carpet\"}],\"choropleth\":[{\"colorbar\":{\"outlinewidth\":0,\"ticks\":\"\"},\"type\":\"choropleth\"}],\"contourcarpet\":[{\"colorbar\":{\"outlinewidth\":0,\"ticks\":\"\"},\"type\":\"contourcarpet\"}],\"contour\":[{\"colorbar\":{\"outlinewidth\":0,\"ticks\":\"\"},\"colorscale\":[[0.0,\"#0d0887\"],[0.1111111111111111,\"#46039f\"],[0.2222222222222222,\"#7201a8\"],[0.3333333333333333,\"#9c179e\"],[0.4444444444444444,\"#bd3786\"],[0.5555555555555556,\"#d8576b\"],[0.6666666666666666,\"#ed7953\"],[0.7777777777777778,\"#fb9f3a\"],[0.8888888888888888,\"#fdca26\"],[1.0,\"#f0f921\"]],\"type\":\"contour\"}],\"heatmapgl\":[{\"colorbar\":{\"outlinewidth\":0,\"ticks\":\"\"},\"colorscale\":[[0.0,\"#0d0887\"],[0.1111111111111111,\"#46039f\"],[0.2222222222222222,\"#7201a8\"],[0.3333333333333333,\"#9c179e\"],[0.4444444444444444,\"#bd3786\"],[0.5555555555555556,\"#d8576b\"],[0.6666666666666666,\"#ed7953\"],[0.7777777777777778,\"#fb9f3a\"],[0.8888888888888888,\"#fdca26\"],[1.0,\"#f0f921\"]],\"type\":\"heatmapgl\"}],\"heatmap\":[{\"colorbar\":{\"outlinewidth\":0,\"ticks\":\"\"},\"colorscale\":[[0.0,\"#0d0887\"],[0.1111111111111111,\"#46039f\"],[0.2222222222222222,\"#7201a8\"],[0.3333333333333333,\"#9c179e\"],[0.4444444444444444,\"#bd3786\"],[0.5555555555555556,\"#d8576b\"],[0.6666666666666666,\"#ed7953\"],[0.7777777777777778,\"#fb9f3a\"],[0.8888888888888888,\"#fdca26\"],[1.0,\"#f0f921\"]],\"type\":\"heatmap\"}],\"histogram2dcontour\":[{\"colorbar\":{\"outlinewidth\":0,\"ticks\":\"\"},\"colorscale\":[[0.0,\"#0d0887\"],[0.1111111111111111,\"#46039f\"],[0.2222222222222222,\"#7201a8\"],[0.3333333333333333,\"#9c179e\"],[0.4444444444444444,\"#bd3786\"],[0.5555555555555556,\"#d8576b\"],[0.6666666666666666,\"#ed7953\"],[0.7777777777777778,\"#fb9f3a\"],[0.8888888888888888,\"#fdca26\"],[1.0,\"#f0f921\"]],\"type\":\"histogram2dcontour\"}],\"histogram2d\":[{\"colorbar\":{\"outlinewidth\":0,\"ticks\":\"\"},\"colorscale\":[[0.0,\"#0d0887\"],[0.1111111111111111,\"#46039f\"],[0.2222222222222222,\"#7201a8\"],[0.3333333333333333,\"#9c179e\"],[0.4444444444444444,\"#bd3786\"],[0.5555555555555556,\"#d8576b\"],[0.6666666666666666,\"#ed7953\"],[0.7777777777777778,\"#fb9f3a\"],[0.8888888888888888,\"#fdca26\"],[1.0,\"#f0f921\"]],\"type\":\"histogram2d\"}],\"histogram\":[{\"marker\":{\"pattern\":{\"fillmode\":\"overlay\",\"size\":10,\"solidity\":0.2}},\"type\":\"histogram\"}],\"mesh3d\":[{\"colorbar\":{\"outlinewidth\":0,\"ticks\":\"\"},\"type\":\"mesh3d\"}],\"parcoords\":[{\"line\":{\"colorbar\":{\"outlinewidth\":0,\"ticks\":\"\"}},\"type\":\"parcoords\"}],\"pie\":[{\"automargin\":true,\"type\":\"pie\"}],\"scatter3d\":[{\"line\":{\"colorbar\":{\"outlinewidth\":0,\"ticks\":\"\"}},\"marker\":{\"colorbar\":{\"outlinewidth\":0,\"ticks\":\"\"}},\"type\":\"scatter3d\"}],\"scattercarpet\":[{\"marker\":{\"colorbar\":{\"outlinewidth\":0,\"ticks\":\"\"}},\"type\":\"scattercarpet\"}],\"scattergeo\":[{\"marker\":{\"colorbar\":{\"outlinewidth\":0,\"ticks\":\"\"}},\"type\":\"scattergeo\"}],\"scattergl\":[{\"marker\":{\"colorbar\":{\"outlinewidth\":0,\"ticks\":\"\"}},\"type\":\"scattergl\"}],\"scattermapbox\":[{\"marker\":{\"colorbar\":{\"outlinewidth\":0,\"ticks\":\"\"}},\"type\":\"scattermapbox\"}],\"scatterpolargl\":[{\"marker\":{\"colorbar\":{\"outlinewidth\":0,\"ticks\":\"\"}},\"type\":\"scatterpolargl\"}],\"scatterpolar\":[{\"marker\":{\"colorbar\":{\"outlinewidth\":0,\"ticks\":\"\"}},\"type\":\"scatterpolar\"}],\"scatter\":[{\"fillpattern\":{\"fillmode\":\"overlay\",\"size\":10,\"solidity\":0.2},\"type\":\"scatter\"}],\"scatterternary\":[{\"marker\":{\"colorbar\":{\"outlinewidth\":0,\"ticks\":\"\"}},\"type\":\"scatterternary\"}],\"surface\":[{\"colorbar\":{\"outlinewidth\":0,\"ticks\":\"\"},\"colorscale\":[[0.0,\"#0d0887\"],[0.1111111111111111,\"#46039f\"],[0.2222222222222222,\"#7201a8\"],[0.3333333333333333,\"#9c179e\"],[0.4444444444444444,\"#bd3786\"],[0.5555555555555556,\"#d8576b\"],[0.6666666666666666,\"#ed7953\"],[0.7777777777777778,\"#fb9f3a\"],[0.8888888888888888,\"#fdca26\"],[1.0,\"#f0f921\"]],\"type\":\"surface\"}],\"table\":[{\"cells\":{\"fill\":{\"color\":\"#EBF0F8\"},\"line\":{\"color\":\"white\"}},\"header\":{\"fill\":{\"color\":\"#C8D4E3\"},\"line\":{\"color\":\"white\"}},\"type\":\"table\"}]},\"layout\":{\"annotationdefaults\":{\"arrowcolor\":\"#2a3f5f\",\"arrowhead\":0,\"arrowwidth\":1},\"autotypenumbers\":\"strict\",\"coloraxis\":{\"colorbar\":{\"outlinewidth\":0,\"ticks\":\"\"}},\"colorscale\":{\"diverging\":[[0,\"#8e0152\"],[0.1,\"#c51b7d\"],[0.2,\"#de77ae\"],[0.3,\"#f1b6da\"],[0.4,\"#fde0ef\"],[0.5,\"#f7f7f7\"],[0.6,\"#e6f5d0\"],[0.7,\"#b8e186\"],[0.8,\"#7fbc41\"],[0.9,\"#4d9221\"],[1,\"#276419\"]],\"sequential\":[[0.0,\"#0d0887\"],[0.1111111111111111,\"#46039f\"],[0.2222222222222222,\"#7201a8\"],[0.3333333333333333,\"#9c179e\"],[0.4444444444444444,\"#bd3786\"],[0.5555555555555556,\"#d8576b\"],[0.6666666666666666,\"#ed7953\"],[0.7777777777777778,\"#fb9f3a\"],[0.8888888888888888,\"#fdca26\"],[1.0,\"#f0f921\"]],\"sequentialminus\":[[0.0,\"#0d0887\"],[0.1111111111111111,\"#46039f\"],[0.2222222222222222,\"#7201a8\"],[0.3333333333333333,\"#9c179e\"],[0.4444444444444444,\"#bd3786\"],[0.5555555555555556,\"#d8576b\"],[0.6666666666666666,\"#ed7953\"],[0.7777777777777778,\"#fb9f3a\"],[0.8888888888888888,\"#fdca26\"],[1.0,\"#f0f921\"]]},\"colorway\":[\"#636efa\",\"#EF553B\",\"#00cc96\",\"#ab63fa\",\"#FFA15A\",\"#19d3f3\",\"#FF6692\",\"#B6E880\",\"#FF97FF\",\"#FECB52\"],\"font\":{\"color\":\"#2a3f5f\"},\"geo\":{\"bgcolor\":\"white\",\"lakecolor\":\"white\",\"landcolor\":\"#E5ECF6\",\"showlakes\":true,\"showland\":true,\"subunitcolor\":\"white\"},\"hoverlabel\":{\"align\":\"left\"},\"hovermode\":\"closest\",\"mapbox\":{\"style\":\"light\"},\"paper_bgcolor\":\"white\",\"plot_bgcolor\":\"#E5ECF6\",\"polar\":{\"angularaxis\":{\"gridcolor\":\"white\",\"linecolor\":\"white\",\"ticks\":\"\"},\"bgcolor\":\"#E5ECF6\",\"radialaxis\":{\"gridcolor\":\"white\",\"linecolor\":\"white\",\"ticks\":\"\"}},\"scene\":{\"xaxis\":{\"backgroundcolor\":\"#E5ECF6\",\"gridcolor\":\"white\",\"gridwidth\":2,\"linecolor\":\"white\",\"showbackground\":true,\"ticks\":\"\",\"zerolinecolor\":\"white\"},\"yaxis\":{\"backgroundcolor\":\"#E5ECF6\",\"gridcolor\":\"white\",\"gridwidth\":2,\"linecolor\":\"white\",\"showbackground\":true,\"ticks\":\"\",\"zerolinecolor\":\"white\"},\"zaxis\":{\"backgroundcolor\":\"#E5ECF6\",\"gridcolor\":\"white\",\"gridwidth\":2,\"linecolor\":\"white\",\"showbackground\":true,\"ticks\":\"\",\"zerolinecolor\":\"white\"}},\"shapedefaults\":{\"line\":{\"color\":\"#2a3f5f\"}},\"ternary\":{\"aaxis\":{\"gridcolor\":\"white\",\"linecolor\":\"white\",\"ticks\":\"\"},\"baxis\":{\"gridcolor\":\"white\",\"linecolor\":\"white\",\"ticks\":\"\"},\"bgcolor\":\"#E5ECF6\",\"caxis\":{\"gridcolor\":\"white\",\"linecolor\":\"white\",\"ticks\":\"\"}},\"title\":{\"x\":0.05},\"xaxis\":{\"automargin\":true,\"gridcolor\":\"white\",\"linecolor\":\"white\",\"ticks\":\"\",\"title\":{\"standoff\":15},\"zerolinecolor\":\"white\",\"zerolinewidth\":2},\"yaxis\":{\"automargin\":true,\"gridcolor\":\"white\",\"linecolor\":\"white\",\"ticks\":\"\",\"title\":{\"standoff\":15},\"zerolinecolor\":\"white\",\"zerolinewidth\":2}}},\"title\":{\"text\":\"Temperature during NVT Equilibration\"},\"xaxis\":{\"title\":{\"text\":\"Time (ps)\"}},\"yaxis\":{\"title\":{\"text\":\"Temperature (K)\"}}},                        {\"responsive\": true}                    ).then(function(){\n",
       "                            \n",
       "var gd = document.getElementById('aeb33036-9bab-4c32-a299-90818d385e33');\n",
       "var x = new MutationObserver(function (mutations, observer) {{\n",
       "        var display = window.getComputedStyle(gd).display;\n",
       "        if (!display || display === 'none') {{\n",
       "            console.log([gd, 'removed!']);\n",
       "            Plotly.purge(gd);\n",
       "            observer.disconnect();\n",
       "        }}\n",
       "}});\n",
       "\n",
       "// Listen for the removal of the full notebook cells\n",
       "var notebookContainer = gd.closest('#notebook-container');\n",
       "if (notebookContainer) {{\n",
       "    x.observe(notebookContainer, {childList: true});\n",
       "}}\n",
       "\n",
       "// Listen for the clearing of the current output cell\n",
       "var outputEl = gd.closest('.output');\n",
       "if (outputEl) {{\n",
       "    x.observe(outputEl, {childList: true});\n",
       "}}\n",
       "\n",
       "                        })                };                });            </script>        </div>"
      ]
     },
     "metadata": {},
     "output_type": "display_data"
    }
   ],
   "source": [
    "import plotly\n",
    "import plotly.graph_objs as go\n",
    "import pandas as pd\n",
    "import Bio\n",
    "import numpy as np\n",
    "\n",
    "# Read temperature data from file \n",
    "with open('a1101_crys_water_nvt_temperature.xvg','r') as temperature_file:\n",
    "    x,y = map(\n",
    "        list,\n",
    "        zip(*[\n",
    "            (float(line.split()[0]),float(line.split()[1]))\n",
    "            for line in temperature_file \n",
    "            if not line.startswith((\"#\",\"@\")) \n",
    "        ])\n",
    "    )\n",
    "\n",
    "plotly.offline.init_notebook_mode(connected=True)\n",
    "\n",
    "fig = {\n",
    "    \"data\": [go.Scatter(x=x, y=y)],\n",
    "    \"layout\": go.Layout(title=\"Temperature during NVT Equilibration\",\n",
    "                        xaxis=dict(title = \"Time (ps)\"),\n",
    "                        yaxis=dict(title = \"Temperature (K)\")\n",
    "                       )\n",
    "}\n",
    "\n",
    "plotly.offline.iplot(fig)"
   ]
  },
  {
   "cell_type": "markdown",
   "id": "c416f8fa",
   "metadata": {},
   "source": [
    "# Step 11.5 :NPT\n",
    "# Edit NPT.mdp file, create .tpr file, mdrun using sbatch script"
   ]
  },
  {
   "cell_type": "code",
   "execution_count": 4,
   "id": "f4fcb560",
   "metadata": {},
   "outputs": [],
   "source": [
    "#copying the previous top file\n",
    "%cp 6id4_crys_water_protonated_pdb2gmx.top a1101_after_nvt.top"
   ]
  },
  {
   "cell_type": "code",
   "execution_count": 5,
   "id": "2ec14a82",
   "metadata": {},
   "outputs": [],
   "source": [
    "#renaming the topology file\n",
    "%mv 6id4_crys_water_protonated_pdb2gmx.top a1101_water.top"
   ]
  },
  {
   "cell_type": "markdown",
   "id": "38db9ed1",
   "metadata": {},
   "source": [
    "# NPT.mdp changes:\n",
    "Obtain sample NPT.mdp file from : http://www.mdtutorials.com/gmx/lysozyme/02_topology.html, NPT section\n",
    "- change nstenergy to 5000\n",
    "-  save energy and temeprature every 10 step instead 1\n",
    "- copy eveyrthing from vdwtype of nvt.mdp and replace this section of npt.mdp\n",
    "- make sure density term is there for npt"
   ]
  },
  {
   "cell_type": "code",
   "execution_count": 7,
   "id": "1790b63f",
   "metadata": {},
   "outputs": [],
   "source": [
    "%cp npt_6id4.mdp a1101_water_npt.mdp"
   ]
  },
  {
   "cell_type": "markdown",
   "id": "56869703",
   "metadata": {},
   "source": [
    "# Generating new .tpr file"
   ]
  },
  {
   "cell_type": "code",
   "execution_count": null,
   "id": "a80afee4",
   "metadata": {},
   "outputs": [],
   "source": [
    "gmx_mpi grompp -f a1101_water_npt.mdp -c a1101_crys_water_nvt_with_batch_file.gro -r a1101_crys_water_nvt_with_batch_file.gro -p a1101_water.top -o a1101_npt_24_05.tpr -n a1101_water_post_em.ndx"
   ]
  },
  {
   "cell_type": "markdown",
   "id": "a1e051b3",
   "metadata": {},
   "source": [
    "# Run batch script"
   ]
  },
  {
   "cell_type": "markdown",
   "id": "33e2f921",
   "metadata": {},
   "source": [
    "sbatch --mem=100G --time=24:00:00 -c 12 -J a1101_npt --gpus=v100:1 --wrap=\"gmx_mpi mdrun -deffnm a1101_npt_24_05 -s a1101_npt_24_05.tpr  -nb gpu -ntomp 12\""
   ]
  },
  {
   "cell_type": "markdown",
   "id": "5bd1916a",
   "metadata": {},
   "source": [
    "%tail -15 a1101_crys_water_npt.log"
   ]
  },
  {
   "cell_type": "code",
   "execution_count": null,
   "id": "896b98dd",
   "metadata": {},
   "outputs": [],
   "source": [
    "gmx_mpi energy -f a1101_npt_24_05.edr  -o a1101_npt_pressure_density.xvg -xvg none ( Choose Density and Pressue 16 0)"
   ]
  },
  {
   "cell_type": "code",
   "execution_count": 1,
   "id": "72aeed89",
   "metadata": {},
   "outputs": [],
   "source": [
    "import plotly\n",
    "import plotly.graph_objs as go\n",
    "import pandas as pd\n",
    "import Bio\n",
    "import numpy as np"
   ]
  },
  {
   "cell_type": "code",
   "execution_count": 2,
   "id": "a226b120",
   "metadata": {},
   "outputs": [
    {
     "data": {
      "text/html": [
       "        <script type=\"text/javascript\">\n",
       "        window.PlotlyConfig = {MathJaxConfig: 'local'};\n",
       "        if (window.MathJax && window.MathJax.Hub && window.MathJax.Hub.Config) {window.MathJax.Hub.Config({SVG: {font: \"STIX-Web\"}});}\n",
       "        if (typeof require !== 'undefined') {\n",
       "        require.undef(\"plotly\");\n",
       "        requirejs.config({\n",
       "            paths: {\n",
       "                'plotly': ['https://cdn.plot.ly/plotly-2.20.0.min']\n",
       "            }\n",
       "        });\n",
       "        require(['plotly'], function(Plotly) {\n",
       "            window._Plotly = Plotly;\n",
       "        });\n",
       "        }\n",
       "        </script>\n",
       "        "
      ]
     },
     "metadata": {},
     "output_type": "display_data"
    },
    {
     "data": {
      "application/vnd.plotly.v1+json": {
       "config": {
        "linkText": "Export to plot.ly",
        "plotlyServerURL": "https://plot.ly",
        "showLink": false
       },
       "data": [
        {
         "type": "scatter",
         "x": [
          0,
          10,
          20,
          30,
          40,
          50,
          60,
          70,
          80,
          90,
          100,
          110,
          120,
          130,
          140,
          150,
          160,
          170,
          180,
          190,
          200,
          210,
          220,
          230,
          240,
          250,
          260,
          270,
          280,
          290,
          300,
          310,
          320,
          330,
          340,
          350,
          360,
          370,
          380,
          390,
          400,
          410,
          420,
          430,
          440,
          450,
          460,
          470,
          480,
          490,
          500,
          510,
          520,
          530,
          540,
          550,
          560,
          570,
          580,
          590,
          600,
          610,
          620,
          630,
          640,
          650,
          660,
          670,
          680,
          690,
          700,
          710,
          720,
          730,
          740,
          750,
          760,
          770,
          780,
          790,
          800,
          810,
          820,
          830,
          840,
          850,
          860,
          870,
          880,
          890,
          900,
          910,
          920,
          930,
          940,
          950,
          960,
          970,
          980,
          990,
          1000
         ],
         "xaxis": "x",
         "y": [
          -80.071526,
          -0.096341,
          15.897805,
          -9.85633,
          21.45635,
          16.500923,
          19.825281,
          9.382092,
          2.139149,
          -0.437581,
          2.446821,
          -9.76081,
          -5.811117,
          22.78089,
          -25.631243,
          0.953818,
          -12.184933,
          16.075842,
          -11.093978,
          23.804726,
          7.575457,
          10.299539,
          44.096573,
          -4.613053,
          3.565122,
          8.679034,
          2.128636,
          13.188339,
          26.879669,
          13.006734,
          -4.265553,
          -16.676292,
          6.797379,
          -5.75208,
          -11.169366,
          3.159094,
          -16.249617,
          7.397661,
          -11.478578,
          35.411247,
          -3.659924,
          1.091679,
          0.833216,
          -3.511962,
          -1.113983,
          21.18478,
          -17.793482,
          -9.595489,
          -3.063925,
          25.671179,
          -17.096481,
          0.066622,
          29.167105,
          28.758718,
          3.39817,
          -16.154669,
          -3.588649,
          6.519155,
          9.687321,
          12.253281,
          7.740989,
          28.466848,
          -30.120245,
          7.452337,
          29.633589,
          -9.696935,
          4.470231,
          24.016275,
          -23.596603,
          8.733049,
          4.394019,
          -3.718393,
          -27.641088,
          12.079015,
          -0.213097,
          4.285426,
          0.834681,
          -4.18713,
          12.893641,
          -18.356897,
          -10.795039,
          -14.990932,
          -23.238365,
          37.458687,
          1.322112,
          -3.584229,
          -20.505457,
          -14.596936,
          -32.825272,
          8.912661,
          -7.35117,
          -5.417154,
          28.446386,
          -0.796262,
          -6.263486,
          -15.903928,
          15.041924,
          15.501281,
          9.837376,
          -1.363108,
          3.702376
         ],
         "yaxis": "y"
        },
        {
         "type": "scatter",
         "x": [
          0,
          10,
          20,
          30,
          40,
          50,
          60,
          70,
          80,
          90,
          100,
          110,
          120,
          130,
          140,
          150,
          160,
          170,
          180,
          190,
          200,
          210,
          220,
          230,
          240,
          250,
          260,
          270,
          280,
          290,
          300,
          310,
          320,
          330,
          340,
          350,
          360,
          370,
          380,
          390,
          400,
          410,
          420,
          430,
          440,
          450,
          460,
          470,
          480,
          490,
          500,
          510,
          520,
          530,
          540,
          550,
          560,
          570,
          580,
          590,
          600,
          610,
          620,
          630,
          640,
          650,
          660,
          670,
          680,
          690,
          700,
          710,
          720,
          730,
          740,
          750,
          760,
          770,
          780,
          790,
          800,
          810,
          820,
          830,
          840,
          850,
          860,
          870,
          880,
          890,
          900,
          910,
          920,
          930,
          940,
          950,
          960,
          970,
          980,
          990,
          1000
         ],
         "xaxis": "x2",
         "y": [
          983.309814,
          991.11615,
          991.585205,
          991.44989,
          991.889343,
          991.932434,
          992.004883,
          991.507019,
          991.757507,
          991.401184,
          991.312622,
          991.798828,
          991.579956,
          991.088257,
          991.185486,
          991.749695,
          991.332153,
          991.471436,
          991.03186,
          991.919922,
          991.713379,
          991.265747,
          992.11908,
          991.336609,
          991.343872,
          991.650085,
          991.365967,
          991.819641,
          991.874573,
          991.232727,
          991.118591,
          991.456055,
          991.336243,
          991.25769,
          992.147766,
          991.326233,
          991.028259,
          991.131714,
          991.432434,
          991.597229,
          991.910522,
          991.335266,
          991.344482,
          991.409424,
          990.917114,
          991.303162,
          991.565002,
          990.964294,
          991.851685,
          991.674316,
          991.424194,
          991.575745,
          991.912048,
          991.981262,
          991.717712,
          991.660461,
          990.809937,
          991.730652,
          991.097717,
          991.855896,
          991.428223,
          991.520264,
          991.5271,
          991.189697,
          991.749268,
          991.169189,
          991.468384,
          991.250427,
          991.57135,
          991.499329,
          991.654297,
          990.992493,
          991.238098,
          991.367859,
          991.657043,
          991.690857,
          991.554077,
          991.139709,
          991.655273,
          991.068359,
          991.203918,
          991.44574,
          991.191406,
          991.864014,
          991.175293,
          991.369446,
          991.387573,
          990.883301,
          991.03125,
          991.447388,
          991.365417,
          991.239075,
          991.829651,
          991.747192,
          991.578064,
          991.544861,
          992.01001,
          991.63208,
          991.36969,
          991.384399,
          991.333374
         ],
         "yaxis": "y2"
        }
       ],
       "layout": {
        "showlegend": false,
        "template": {
         "data": {
          "bar": [
           {
            "error_x": {
             "color": "#2a3f5f"
            },
            "error_y": {
             "color": "#2a3f5f"
            },
            "marker": {
             "line": {
              "color": "#E5ECF6",
              "width": 0.5
             },
             "pattern": {
              "fillmode": "overlay",
              "size": 10,
              "solidity": 0.2
             }
            },
            "type": "bar"
           }
          ],
          "barpolar": [
           {
            "marker": {
             "line": {
              "color": "#E5ECF6",
              "width": 0.5
             },
             "pattern": {
              "fillmode": "overlay",
              "size": 10,
              "solidity": 0.2
             }
            },
            "type": "barpolar"
           }
          ],
          "carpet": [
           {
            "aaxis": {
             "endlinecolor": "#2a3f5f",
             "gridcolor": "white",
             "linecolor": "white",
             "minorgridcolor": "white",
             "startlinecolor": "#2a3f5f"
            },
            "baxis": {
             "endlinecolor": "#2a3f5f",
             "gridcolor": "white",
             "linecolor": "white",
             "minorgridcolor": "white",
             "startlinecolor": "#2a3f5f"
            },
            "type": "carpet"
           }
          ],
          "choropleth": [
           {
            "colorbar": {
             "outlinewidth": 0,
             "ticks": ""
            },
            "type": "choropleth"
           }
          ],
          "contour": [
           {
            "colorbar": {
             "outlinewidth": 0,
             "ticks": ""
            },
            "colorscale": [
             [
              0,
              "#0d0887"
             ],
             [
              0.1111111111111111,
              "#46039f"
             ],
             [
              0.2222222222222222,
              "#7201a8"
             ],
             [
              0.3333333333333333,
              "#9c179e"
             ],
             [
              0.4444444444444444,
              "#bd3786"
             ],
             [
              0.5555555555555556,
              "#d8576b"
             ],
             [
              0.6666666666666666,
              "#ed7953"
             ],
             [
              0.7777777777777778,
              "#fb9f3a"
             ],
             [
              0.8888888888888888,
              "#fdca26"
             ],
             [
              1,
              "#f0f921"
             ]
            ],
            "type": "contour"
           }
          ],
          "contourcarpet": [
           {
            "colorbar": {
             "outlinewidth": 0,
             "ticks": ""
            },
            "type": "contourcarpet"
           }
          ],
          "heatmap": [
           {
            "colorbar": {
             "outlinewidth": 0,
             "ticks": ""
            },
            "colorscale": [
             [
              0,
              "#0d0887"
             ],
             [
              0.1111111111111111,
              "#46039f"
             ],
             [
              0.2222222222222222,
              "#7201a8"
             ],
             [
              0.3333333333333333,
              "#9c179e"
             ],
             [
              0.4444444444444444,
              "#bd3786"
             ],
             [
              0.5555555555555556,
              "#d8576b"
             ],
             [
              0.6666666666666666,
              "#ed7953"
             ],
             [
              0.7777777777777778,
              "#fb9f3a"
             ],
             [
              0.8888888888888888,
              "#fdca26"
             ],
             [
              1,
              "#f0f921"
             ]
            ],
            "type": "heatmap"
           }
          ],
          "heatmapgl": [
           {
            "colorbar": {
             "outlinewidth": 0,
             "ticks": ""
            },
            "colorscale": [
             [
              0,
              "#0d0887"
             ],
             [
              0.1111111111111111,
              "#46039f"
             ],
             [
              0.2222222222222222,
              "#7201a8"
             ],
             [
              0.3333333333333333,
              "#9c179e"
             ],
             [
              0.4444444444444444,
              "#bd3786"
             ],
             [
              0.5555555555555556,
              "#d8576b"
             ],
             [
              0.6666666666666666,
              "#ed7953"
             ],
             [
              0.7777777777777778,
              "#fb9f3a"
             ],
             [
              0.8888888888888888,
              "#fdca26"
             ],
             [
              1,
              "#f0f921"
             ]
            ],
            "type": "heatmapgl"
           }
          ],
          "histogram": [
           {
            "marker": {
             "pattern": {
              "fillmode": "overlay",
              "size": 10,
              "solidity": 0.2
             }
            },
            "type": "histogram"
           }
          ],
          "histogram2d": [
           {
            "colorbar": {
             "outlinewidth": 0,
             "ticks": ""
            },
            "colorscale": [
             [
              0,
              "#0d0887"
             ],
             [
              0.1111111111111111,
              "#46039f"
             ],
             [
              0.2222222222222222,
              "#7201a8"
             ],
             [
              0.3333333333333333,
              "#9c179e"
             ],
             [
              0.4444444444444444,
              "#bd3786"
             ],
             [
              0.5555555555555556,
              "#d8576b"
             ],
             [
              0.6666666666666666,
              "#ed7953"
             ],
             [
              0.7777777777777778,
              "#fb9f3a"
             ],
             [
              0.8888888888888888,
              "#fdca26"
             ],
             [
              1,
              "#f0f921"
             ]
            ],
            "type": "histogram2d"
           }
          ],
          "histogram2dcontour": [
           {
            "colorbar": {
             "outlinewidth": 0,
             "ticks": ""
            },
            "colorscale": [
             [
              0,
              "#0d0887"
             ],
             [
              0.1111111111111111,
              "#46039f"
             ],
             [
              0.2222222222222222,
              "#7201a8"
             ],
             [
              0.3333333333333333,
              "#9c179e"
             ],
             [
              0.4444444444444444,
              "#bd3786"
             ],
             [
              0.5555555555555556,
              "#d8576b"
             ],
             [
              0.6666666666666666,
              "#ed7953"
             ],
             [
              0.7777777777777778,
              "#fb9f3a"
             ],
             [
              0.8888888888888888,
              "#fdca26"
             ],
             [
              1,
              "#f0f921"
             ]
            ],
            "type": "histogram2dcontour"
           }
          ],
          "mesh3d": [
           {
            "colorbar": {
             "outlinewidth": 0,
             "ticks": ""
            },
            "type": "mesh3d"
           }
          ],
          "parcoords": [
           {
            "line": {
             "colorbar": {
              "outlinewidth": 0,
              "ticks": ""
             }
            },
            "type": "parcoords"
           }
          ],
          "pie": [
           {
            "automargin": true,
            "type": "pie"
           }
          ],
          "scatter": [
           {
            "fillpattern": {
             "fillmode": "overlay",
             "size": 10,
             "solidity": 0.2
            },
            "type": "scatter"
           }
          ],
          "scatter3d": [
           {
            "line": {
             "colorbar": {
              "outlinewidth": 0,
              "ticks": ""
             }
            },
            "marker": {
             "colorbar": {
              "outlinewidth": 0,
              "ticks": ""
             }
            },
            "type": "scatter3d"
           }
          ],
          "scattercarpet": [
           {
            "marker": {
             "colorbar": {
              "outlinewidth": 0,
              "ticks": ""
             }
            },
            "type": "scattercarpet"
           }
          ],
          "scattergeo": [
           {
            "marker": {
             "colorbar": {
              "outlinewidth": 0,
              "ticks": ""
             }
            },
            "type": "scattergeo"
           }
          ],
          "scattergl": [
           {
            "marker": {
             "colorbar": {
              "outlinewidth": 0,
              "ticks": ""
             }
            },
            "type": "scattergl"
           }
          ],
          "scattermapbox": [
           {
            "marker": {
             "colorbar": {
              "outlinewidth": 0,
              "ticks": ""
             }
            },
            "type": "scattermapbox"
           }
          ],
          "scatterpolar": [
           {
            "marker": {
             "colorbar": {
              "outlinewidth": 0,
              "ticks": ""
             }
            },
            "type": "scatterpolar"
           }
          ],
          "scatterpolargl": [
           {
            "marker": {
             "colorbar": {
              "outlinewidth": 0,
              "ticks": ""
             }
            },
            "type": "scatterpolargl"
           }
          ],
          "scatterternary": [
           {
            "marker": {
             "colorbar": {
              "outlinewidth": 0,
              "ticks": ""
             }
            },
            "type": "scatterternary"
           }
          ],
          "surface": [
           {
            "colorbar": {
             "outlinewidth": 0,
             "ticks": ""
            },
            "colorscale": [
             [
              0,
              "#0d0887"
             ],
             [
              0.1111111111111111,
              "#46039f"
             ],
             [
              0.2222222222222222,
              "#7201a8"
             ],
             [
              0.3333333333333333,
              "#9c179e"
             ],
             [
              0.4444444444444444,
              "#bd3786"
             ],
             [
              0.5555555555555556,
              "#d8576b"
             ],
             [
              0.6666666666666666,
              "#ed7953"
             ],
             [
              0.7777777777777778,
              "#fb9f3a"
             ],
             [
              0.8888888888888888,
              "#fdca26"
             ],
             [
              1,
              "#f0f921"
             ]
            ],
            "type": "surface"
           }
          ],
          "table": [
           {
            "cells": {
             "fill": {
              "color": "#EBF0F8"
             },
             "line": {
              "color": "white"
             }
            },
            "header": {
             "fill": {
              "color": "#C8D4E3"
             },
             "line": {
              "color": "white"
             }
            },
            "type": "table"
           }
          ]
         },
         "layout": {
          "annotationdefaults": {
           "arrowcolor": "#2a3f5f",
           "arrowhead": 0,
           "arrowwidth": 1
          },
          "autotypenumbers": "strict",
          "coloraxis": {
           "colorbar": {
            "outlinewidth": 0,
            "ticks": ""
           }
          },
          "colorscale": {
           "diverging": [
            [
             0,
             "#8e0152"
            ],
            [
             0.1,
             "#c51b7d"
            ],
            [
             0.2,
             "#de77ae"
            ],
            [
             0.3,
             "#f1b6da"
            ],
            [
             0.4,
             "#fde0ef"
            ],
            [
             0.5,
             "#f7f7f7"
            ],
            [
             0.6,
             "#e6f5d0"
            ],
            [
             0.7,
             "#b8e186"
            ],
            [
             0.8,
             "#7fbc41"
            ],
            [
             0.9,
             "#4d9221"
            ],
            [
             1,
             "#276419"
            ]
           ],
           "sequential": [
            [
             0,
             "#0d0887"
            ],
            [
             0.1111111111111111,
             "#46039f"
            ],
            [
             0.2222222222222222,
             "#7201a8"
            ],
            [
             0.3333333333333333,
             "#9c179e"
            ],
            [
             0.4444444444444444,
             "#bd3786"
            ],
            [
             0.5555555555555556,
             "#d8576b"
            ],
            [
             0.6666666666666666,
             "#ed7953"
            ],
            [
             0.7777777777777778,
             "#fb9f3a"
            ],
            [
             0.8888888888888888,
             "#fdca26"
            ],
            [
             1,
             "#f0f921"
            ]
           ],
           "sequentialminus": [
            [
             0,
             "#0d0887"
            ],
            [
             0.1111111111111111,
             "#46039f"
            ],
            [
             0.2222222222222222,
             "#7201a8"
            ],
            [
             0.3333333333333333,
             "#9c179e"
            ],
            [
             0.4444444444444444,
             "#bd3786"
            ],
            [
             0.5555555555555556,
             "#d8576b"
            ],
            [
             0.6666666666666666,
             "#ed7953"
            ],
            [
             0.7777777777777778,
             "#fb9f3a"
            ],
            [
             0.8888888888888888,
             "#fdca26"
            ],
            [
             1,
             "#f0f921"
            ]
           ]
          },
          "colorway": [
           "#636efa",
           "#EF553B",
           "#00cc96",
           "#ab63fa",
           "#FFA15A",
           "#19d3f3",
           "#FF6692",
           "#B6E880",
           "#FF97FF",
           "#FECB52"
          ],
          "font": {
           "color": "#2a3f5f"
          },
          "geo": {
           "bgcolor": "white",
           "lakecolor": "white",
           "landcolor": "#E5ECF6",
           "showlakes": true,
           "showland": true,
           "subunitcolor": "white"
          },
          "hoverlabel": {
           "align": "left"
          },
          "hovermode": "closest",
          "mapbox": {
           "style": "light"
          },
          "paper_bgcolor": "white",
          "plot_bgcolor": "#E5ECF6",
          "polar": {
           "angularaxis": {
            "gridcolor": "white",
            "linecolor": "white",
            "ticks": ""
           },
           "bgcolor": "#E5ECF6",
           "radialaxis": {
            "gridcolor": "white",
            "linecolor": "white",
            "ticks": ""
           }
          },
          "scene": {
           "xaxis": {
            "backgroundcolor": "#E5ECF6",
            "gridcolor": "white",
            "gridwidth": 2,
            "linecolor": "white",
            "showbackground": true,
            "ticks": "",
            "zerolinecolor": "white"
           },
           "yaxis": {
            "backgroundcolor": "#E5ECF6",
            "gridcolor": "white",
            "gridwidth": 2,
            "linecolor": "white",
            "showbackground": true,
            "ticks": "",
            "zerolinecolor": "white"
           },
           "zaxis": {
            "backgroundcolor": "#E5ECF6",
            "gridcolor": "white",
            "gridwidth": 2,
            "linecolor": "white",
            "showbackground": true,
            "ticks": "",
            "zerolinecolor": "white"
           }
          },
          "shapedefaults": {
           "line": {
            "color": "#2a3f5f"
           }
          },
          "ternary": {
           "aaxis": {
            "gridcolor": "white",
            "linecolor": "white",
            "ticks": ""
           },
           "baxis": {
            "gridcolor": "white",
            "linecolor": "white",
            "ticks": ""
           },
           "bgcolor": "#E5ECF6",
           "caxis": {
            "gridcolor": "white",
            "linecolor": "white",
            "ticks": ""
           }
          },
          "title": {
           "x": 0.05
          },
          "xaxis": {
           "automargin": true,
           "gridcolor": "white",
           "linecolor": "white",
           "ticks": "",
           "title": {
            "standoff": 15
           },
           "zerolinecolor": "white",
           "zerolinewidth": 2
          },
          "yaxis": {
           "automargin": true,
           "gridcolor": "white",
           "linecolor": "white",
           "ticks": "",
           "title": {
            "standoff": 15
           },
           "zerolinecolor": "white",
           "zerolinewidth": 2
          }
         }
        },
        "title": {
         "text": "Pressure and Desnity during NPT Equilibration"
        },
        "xaxis": {
         "anchor": "y",
         "domain": [
          0,
          0.45
         ],
         "title": {
          "text": "Time (ps)"
         }
        },
        "xaxis2": {
         "anchor": "y2",
         "domain": [
          0.55,
          1
         ],
         "title": {
          "text": "Time (ps)"
         }
        },
        "yaxis": {
         "anchor": "x",
         "domain": [
          0,
          1
         ],
         "title": {
          "text": "Pressure (bar)"
         }
        },
        "yaxis2": {
         "anchor": "x2",
         "domain": [
          0,
          1
         ],
         "title": {
          "text": "Density (\" Kg/m^3\")"
         }
        }
       }
      },
      "text/html": [
       "<div>                            <div id=\"7e34dd61-ec65-48d8-916d-bb19866305bd\" class=\"plotly-graph-div\" style=\"height:525px; width:100%;\"></div>            <script type=\"text/javascript\">                require([\"plotly\"], function(Plotly) {                    window.PLOTLYENV=window.PLOTLYENV || {};                                    if (document.getElementById(\"7e34dd61-ec65-48d8-916d-bb19866305bd\")) {                    Plotly.newPlot(                        \"7e34dd61-ec65-48d8-916d-bb19866305bd\",                        [{\"x\":[0.0,10.0,20.0,30.0,40.0,50.0,60.0,70.0,80.0,90.0,100.0,110.0,120.0,130.0,140.0,150.0,160.0,170.0,180.0,190.0,200.0,210.0,220.0,230.0,240.0,250.0,260.0,270.0,280.0,290.0,300.0,310.0,320.0,330.0,340.0,350.0,360.0,370.0,380.0,390.0,400.0,410.0,420.0,430.0,440.0,450.0,460.0,470.0,480.0,490.0,500.0,510.0,520.0,530.0,540.0,550.0,560.0,570.0,580.0,590.0,600.0,610.0,620.0,630.0,640.0,650.0,660.0,670.0,680.0,690.0,700.0,710.0,720.0,730.0,740.0,750.0,760.0,770.0,780.0,790.0,800.0,810.0,820.0,830.0,840.0,850.0,860.0,870.0,880.0,890.0,900.0,910.0,920.0,930.0,940.0,950.0,960.0,970.0,980.0,990.0,1000.0],\"xaxis\":\"x\",\"y\":[-80.071526,-0.096341,15.897805,-9.85633,21.45635,16.500923,19.825281,9.382092,2.139149,-0.437581,2.446821,-9.76081,-5.811117,22.78089,-25.631243,0.953818,-12.184933,16.075842,-11.093978,23.804726,7.575457,10.299539,44.096573,-4.613053,3.565122,8.679034,2.128636,13.188339,26.879669,13.006734,-4.265553,-16.676292,6.797379,-5.75208,-11.169366,3.159094,-16.249617,7.397661,-11.478578,35.411247,-3.659924,1.091679,0.833216,-3.511962,-1.113983,21.18478,-17.793482,-9.595489,-3.063925,25.671179,-17.096481,0.066622,29.167105,28.758718,3.39817,-16.154669,-3.588649,6.519155,9.687321,12.253281,7.740989,28.466848,-30.120245,7.452337,29.633589,-9.696935,4.470231,24.016275,-23.596603,8.733049,4.394019,-3.718393,-27.641088,12.079015,-0.213097,4.285426,0.834681,-4.18713,12.893641,-18.356897,-10.795039,-14.990932,-23.238365,37.458687,1.322112,-3.584229,-20.505457,-14.596936,-32.825272,8.912661,-7.35117,-5.417154,28.446386,-0.796262,-6.263486,-15.903928,15.041924,15.501281,9.837376,-1.363108,3.702376],\"yaxis\":\"y\",\"type\":\"scatter\"},{\"x\":[0.0,10.0,20.0,30.0,40.0,50.0,60.0,70.0,80.0,90.0,100.0,110.0,120.0,130.0,140.0,150.0,160.0,170.0,180.0,190.0,200.0,210.0,220.0,230.0,240.0,250.0,260.0,270.0,280.0,290.0,300.0,310.0,320.0,330.0,340.0,350.0,360.0,370.0,380.0,390.0,400.0,410.0,420.0,430.0,440.0,450.0,460.0,470.0,480.0,490.0,500.0,510.0,520.0,530.0,540.0,550.0,560.0,570.0,580.0,590.0,600.0,610.0,620.0,630.0,640.0,650.0,660.0,670.0,680.0,690.0,700.0,710.0,720.0,730.0,740.0,750.0,760.0,770.0,780.0,790.0,800.0,810.0,820.0,830.0,840.0,850.0,860.0,870.0,880.0,890.0,900.0,910.0,920.0,930.0,940.0,950.0,960.0,970.0,980.0,990.0,1000.0],\"xaxis\":\"x2\",\"y\":[983.309814,991.11615,991.585205,991.44989,991.889343,991.932434,992.004883,991.507019,991.757507,991.401184,991.312622,991.798828,991.579956,991.088257,991.185486,991.749695,991.332153,991.471436,991.03186,991.919922,991.713379,991.265747,992.11908,991.336609,991.343872,991.650085,991.365967,991.819641,991.874573,991.232727,991.118591,991.456055,991.336243,991.25769,992.147766,991.326233,991.028259,991.131714,991.432434,991.597229,991.910522,991.335266,991.344482,991.409424,990.917114,991.303162,991.565002,990.964294,991.851685,991.674316,991.424194,991.575745,991.912048,991.981262,991.717712,991.660461,990.809937,991.730652,991.097717,991.855896,991.428223,991.520264,991.5271,991.189697,991.749268,991.169189,991.468384,991.250427,991.57135,991.499329,991.654297,990.992493,991.238098,991.367859,991.657043,991.690857,991.554077,991.139709,991.655273,991.068359,991.203918,991.44574,991.191406,991.864014,991.175293,991.369446,991.387573,990.883301,991.03125,991.447388,991.365417,991.239075,991.829651,991.747192,991.578064,991.544861,992.01001,991.63208,991.36969,991.384399,991.333374],\"yaxis\":\"y2\",\"type\":\"scatter\"}],                        {\"showlegend\":false,\"template\":{\"data\":{\"barpolar\":[{\"marker\":{\"line\":{\"color\":\"#E5ECF6\",\"width\":0.5},\"pattern\":{\"fillmode\":\"overlay\",\"size\":10,\"solidity\":0.2}},\"type\":\"barpolar\"}],\"bar\":[{\"error_x\":{\"color\":\"#2a3f5f\"},\"error_y\":{\"color\":\"#2a3f5f\"},\"marker\":{\"line\":{\"color\":\"#E5ECF6\",\"width\":0.5},\"pattern\":{\"fillmode\":\"overlay\",\"size\":10,\"solidity\":0.2}},\"type\":\"bar\"}],\"carpet\":[{\"aaxis\":{\"endlinecolor\":\"#2a3f5f\",\"gridcolor\":\"white\",\"linecolor\":\"white\",\"minorgridcolor\":\"white\",\"startlinecolor\":\"#2a3f5f\"},\"baxis\":{\"endlinecolor\":\"#2a3f5f\",\"gridcolor\":\"white\",\"linecolor\":\"white\",\"minorgridcolor\":\"white\",\"startlinecolor\":\"#2a3f5f\"},\"type\":\"carpet\"}],\"choropleth\":[{\"colorbar\":{\"outlinewidth\":0,\"ticks\":\"\"},\"type\":\"choropleth\"}],\"contourcarpet\":[{\"colorbar\":{\"outlinewidth\":0,\"ticks\":\"\"},\"type\":\"contourcarpet\"}],\"contour\":[{\"colorbar\":{\"outlinewidth\":0,\"ticks\":\"\"},\"colorscale\":[[0.0,\"#0d0887\"],[0.1111111111111111,\"#46039f\"],[0.2222222222222222,\"#7201a8\"],[0.3333333333333333,\"#9c179e\"],[0.4444444444444444,\"#bd3786\"],[0.5555555555555556,\"#d8576b\"],[0.6666666666666666,\"#ed7953\"],[0.7777777777777778,\"#fb9f3a\"],[0.8888888888888888,\"#fdca26\"],[1.0,\"#f0f921\"]],\"type\":\"contour\"}],\"heatmapgl\":[{\"colorbar\":{\"outlinewidth\":0,\"ticks\":\"\"},\"colorscale\":[[0.0,\"#0d0887\"],[0.1111111111111111,\"#46039f\"],[0.2222222222222222,\"#7201a8\"],[0.3333333333333333,\"#9c179e\"],[0.4444444444444444,\"#bd3786\"],[0.5555555555555556,\"#d8576b\"],[0.6666666666666666,\"#ed7953\"],[0.7777777777777778,\"#fb9f3a\"],[0.8888888888888888,\"#fdca26\"],[1.0,\"#f0f921\"]],\"type\":\"heatmapgl\"}],\"heatmap\":[{\"colorbar\":{\"outlinewidth\":0,\"ticks\":\"\"},\"colorscale\":[[0.0,\"#0d0887\"],[0.1111111111111111,\"#46039f\"],[0.2222222222222222,\"#7201a8\"],[0.3333333333333333,\"#9c179e\"],[0.4444444444444444,\"#bd3786\"],[0.5555555555555556,\"#d8576b\"],[0.6666666666666666,\"#ed7953\"],[0.7777777777777778,\"#fb9f3a\"],[0.8888888888888888,\"#fdca26\"],[1.0,\"#f0f921\"]],\"type\":\"heatmap\"}],\"histogram2dcontour\":[{\"colorbar\":{\"outlinewidth\":0,\"ticks\":\"\"},\"colorscale\":[[0.0,\"#0d0887\"],[0.1111111111111111,\"#46039f\"],[0.2222222222222222,\"#7201a8\"],[0.3333333333333333,\"#9c179e\"],[0.4444444444444444,\"#bd3786\"],[0.5555555555555556,\"#d8576b\"],[0.6666666666666666,\"#ed7953\"],[0.7777777777777778,\"#fb9f3a\"],[0.8888888888888888,\"#fdca26\"],[1.0,\"#f0f921\"]],\"type\":\"histogram2dcontour\"}],\"histogram2d\":[{\"colorbar\":{\"outlinewidth\":0,\"ticks\":\"\"},\"colorscale\":[[0.0,\"#0d0887\"],[0.1111111111111111,\"#46039f\"],[0.2222222222222222,\"#7201a8\"],[0.3333333333333333,\"#9c179e\"],[0.4444444444444444,\"#bd3786\"],[0.5555555555555556,\"#d8576b\"],[0.6666666666666666,\"#ed7953\"],[0.7777777777777778,\"#fb9f3a\"],[0.8888888888888888,\"#fdca26\"],[1.0,\"#f0f921\"]],\"type\":\"histogram2d\"}],\"histogram\":[{\"marker\":{\"pattern\":{\"fillmode\":\"overlay\",\"size\":10,\"solidity\":0.2}},\"type\":\"histogram\"}],\"mesh3d\":[{\"colorbar\":{\"outlinewidth\":0,\"ticks\":\"\"},\"type\":\"mesh3d\"}],\"parcoords\":[{\"line\":{\"colorbar\":{\"outlinewidth\":0,\"ticks\":\"\"}},\"type\":\"parcoords\"}],\"pie\":[{\"automargin\":true,\"type\":\"pie\"}],\"scatter3d\":[{\"line\":{\"colorbar\":{\"outlinewidth\":0,\"ticks\":\"\"}},\"marker\":{\"colorbar\":{\"outlinewidth\":0,\"ticks\":\"\"}},\"type\":\"scatter3d\"}],\"scattercarpet\":[{\"marker\":{\"colorbar\":{\"outlinewidth\":0,\"ticks\":\"\"}},\"type\":\"scattercarpet\"}],\"scattergeo\":[{\"marker\":{\"colorbar\":{\"outlinewidth\":0,\"ticks\":\"\"}},\"type\":\"scattergeo\"}],\"scattergl\":[{\"marker\":{\"colorbar\":{\"outlinewidth\":0,\"ticks\":\"\"}},\"type\":\"scattergl\"}],\"scattermapbox\":[{\"marker\":{\"colorbar\":{\"outlinewidth\":0,\"ticks\":\"\"}},\"type\":\"scattermapbox\"}],\"scatterpolargl\":[{\"marker\":{\"colorbar\":{\"outlinewidth\":0,\"ticks\":\"\"}},\"type\":\"scatterpolargl\"}],\"scatterpolar\":[{\"marker\":{\"colorbar\":{\"outlinewidth\":0,\"ticks\":\"\"}},\"type\":\"scatterpolar\"}],\"scatter\":[{\"fillpattern\":{\"fillmode\":\"overlay\",\"size\":10,\"solidity\":0.2},\"type\":\"scatter\"}],\"scatterternary\":[{\"marker\":{\"colorbar\":{\"outlinewidth\":0,\"ticks\":\"\"}},\"type\":\"scatterternary\"}],\"surface\":[{\"colorbar\":{\"outlinewidth\":0,\"ticks\":\"\"},\"colorscale\":[[0.0,\"#0d0887\"],[0.1111111111111111,\"#46039f\"],[0.2222222222222222,\"#7201a8\"],[0.3333333333333333,\"#9c179e\"],[0.4444444444444444,\"#bd3786\"],[0.5555555555555556,\"#d8576b\"],[0.6666666666666666,\"#ed7953\"],[0.7777777777777778,\"#fb9f3a\"],[0.8888888888888888,\"#fdca26\"],[1.0,\"#f0f921\"]],\"type\":\"surface\"}],\"table\":[{\"cells\":{\"fill\":{\"color\":\"#EBF0F8\"},\"line\":{\"color\":\"white\"}},\"header\":{\"fill\":{\"color\":\"#C8D4E3\"},\"line\":{\"color\":\"white\"}},\"type\":\"table\"}]},\"layout\":{\"annotationdefaults\":{\"arrowcolor\":\"#2a3f5f\",\"arrowhead\":0,\"arrowwidth\":1},\"autotypenumbers\":\"strict\",\"coloraxis\":{\"colorbar\":{\"outlinewidth\":0,\"ticks\":\"\"}},\"colorscale\":{\"diverging\":[[0,\"#8e0152\"],[0.1,\"#c51b7d\"],[0.2,\"#de77ae\"],[0.3,\"#f1b6da\"],[0.4,\"#fde0ef\"],[0.5,\"#f7f7f7\"],[0.6,\"#e6f5d0\"],[0.7,\"#b8e186\"],[0.8,\"#7fbc41\"],[0.9,\"#4d9221\"],[1,\"#276419\"]],\"sequential\":[[0.0,\"#0d0887\"],[0.1111111111111111,\"#46039f\"],[0.2222222222222222,\"#7201a8\"],[0.3333333333333333,\"#9c179e\"],[0.4444444444444444,\"#bd3786\"],[0.5555555555555556,\"#d8576b\"],[0.6666666666666666,\"#ed7953\"],[0.7777777777777778,\"#fb9f3a\"],[0.8888888888888888,\"#fdca26\"],[1.0,\"#f0f921\"]],\"sequentialminus\":[[0.0,\"#0d0887\"],[0.1111111111111111,\"#46039f\"],[0.2222222222222222,\"#7201a8\"],[0.3333333333333333,\"#9c179e\"],[0.4444444444444444,\"#bd3786\"],[0.5555555555555556,\"#d8576b\"],[0.6666666666666666,\"#ed7953\"],[0.7777777777777778,\"#fb9f3a\"],[0.8888888888888888,\"#fdca26\"],[1.0,\"#f0f921\"]]},\"colorway\":[\"#636efa\",\"#EF553B\",\"#00cc96\",\"#ab63fa\",\"#FFA15A\",\"#19d3f3\",\"#FF6692\",\"#B6E880\",\"#FF97FF\",\"#FECB52\"],\"font\":{\"color\":\"#2a3f5f\"},\"geo\":{\"bgcolor\":\"white\",\"lakecolor\":\"white\",\"landcolor\":\"#E5ECF6\",\"showlakes\":true,\"showland\":true,\"subunitcolor\":\"white\"},\"hoverlabel\":{\"align\":\"left\"},\"hovermode\":\"closest\",\"mapbox\":{\"style\":\"light\"},\"paper_bgcolor\":\"white\",\"plot_bgcolor\":\"#E5ECF6\",\"polar\":{\"angularaxis\":{\"gridcolor\":\"white\",\"linecolor\":\"white\",\"ticks\":\"\"},\"bgcolor\":\"#E5ECF6\",\"radialaxis\":{\"gridcolor\":\"white\",\"linecolor\":\"white\",\"ticks\":\"\"}},\"scene\":{\"xaxis\":{\"backgroundcolor\":\"#E5ECF6\",\"gridcolor\":\"white\",\"gridwidth\":2,\"linecolor\":\"white\",\"showbackground\":true,\"ticks\":\"\",\"zerolinecolor\":\"white\"},\"yaxis\":{\"backgroundcolor\":\"#E5ECF6\",\"gridcolor\":\"white\",\"gridwidth\":2,\"linecolor\":\"white\",\"showbackground\":true,\"ticks\":\"\",\"zerolinecolor\":\"white\"},\"zaxis\":{\"backgroundcolor\":\"#E5ECF6\",\"gridcolor\":\"white\",\"gridwidth\":2,\"linecolor\":\"white\",\"showbackground\":true,\"ticks\":\"\",\"zerolinecolor\":\"white\"}},\"shapedefaults\":{\"line\":{\"color\":\"#2a3f5f\"}},\"ternary\":{\"aaxis\":{\"gridcolor\":\"white\",\"linecolor\":\"white\",\"ticks\":\"\"},\"baxis\":{\"gridcolor\":\"white\",\"linecolor\":\"white\",\"ticks\":\"\"},\"bgcolor\":\"#E5ECF6\",\"caxis\":{\"gridcolor\":\"white\",\"linecolor\":\"white\",\"ticks\":\"\"}},\"title\":{\"x\":0.05},\"xaxis\":{\"automargin\":true,\"gridcolor\":\"white\",\"linecolor\":\"white\",\"ticks\":\"\",\"title\":{\"standoff\":15},\"zerolinecolor\":\"white\",\"zerolinewidth\":2},\"yaxis\":{\"automargin\":true,\"gridcolor\":\"white\",\"linecolor\":\"white\",\"ticks\":\"\",\"title\":{\"standoff\":15},\"zerolinecolor\":\"white\",\"zerolinewidth\":2}}},\"title\":{\"text\":\"Pressure and Desnity during NPT Equilibration\"},\"xaxis\":{\"anchor\":\"y\",\"domain\":[0.0,0.45],\"title\":{\"text\":\"Time (ps)\"}},\"yaxis\":{\"anchor\":\"x\",\"domain\":[0.0,1.0],\"title\":{\"text\":\"Pressure (bar)\"}},\"xaxis2\":{\"anchor\":\"y2\",\"domain\":[0.55,1.0],\"title\":{\"text\":\"Time (ps)\"}},\"yaxis2\":{\"anchor\":\"x2\",\"domain\":[0.0,1.0],\"title\":{\"text\":\"Density (\\\" Kg/m^3\\\")\"}}},                        {\"responsive\": true}                    ).then(function(){\n",
       "                            \n",
       "var gd = document.getElementById('7e34dd61-ec65-48d8-916d-bb19866305bd');\n",
       "var x = new MutationObserver(function (mutations, observer) {{\n",
       "        var display = window.getComputedStyle(gd).display;\n",
       "        if (!display || display === 'none') {{\n",
       "            console.log([gd, 'removed!']);\n",
       "            Plotly.purge(gd);\n",
       "            observer.disconnect();\n",
       "        }}\n",
       "}});\n",
       "\n",
       "// Listen for the removal of the full notebook cells\n",
       "var notebookContainer = gd.closest('#notebook-container');\n",
       "if (notebookContainer) {{\n",
       "    x.observe(notebookContainer, {childList: true});\n",
       "}}\n",
       "\n",
       "// Listen for the clearing of the current output cell\n",
       "var outputEl = gd.closest('.output');\n",
       "if (outputEl) {{\n",
       "    x.observe(outputEl, {childList: true});\n",
       "}}\n",
       "\n",
       "                        })                };                });            </script>        </div>"
      ]
     },
     "metadata": {},
     "output_type": "display_data"
    }
   ],
   "source": [
    "\n",
    "from plotly import subplots\n",
    "\n",
    "\n",
    "# Read pressure and density data from file \n",
    "with open(\"a1101_npt_pressure_density.xvg\",'r') as pd_file:\n",
    "    x,y,z = map(\n",
    "        list,\n",
    "        zip(*[\n",
    "            (float(line.split()[0]),float(line.split()[1]),float(line.split()[2]))\n",
    "            for line in pd_file \n",
    "            if not line.startswith((\"#\",\"@\")) \n",
    "        ])\n",
    "    )\n",
    "\n",
    "plotly.offline.init_notebook_mode(connected=True)\n",
    "\n",
    "trace1 = go.Scatter(\n",
    "    x=x,y=y\n",
    ")\n",
    "trace2 = go.Scatter(\n",
    "    x=x,y=z\n",
    ")\n",
    "\n",
    "fig = subplots.make_subplots(rows=1, cols=2, print_grid=False)\n",
    "\n",
    "fig.append_trace(trace1, 1, 1)\n",
    "fig.append_trace(trace2, 1, 2)\n",
    "\n",
    "fig['layout']['xaxis1'].update(title='Time (ps)')\n",
    "fig['layout']['xaxis2'].update(title='Time (ps)')\n",
    "fig['layout']['yaxis1'].update(title='Pressure (bar)')\n",
    "fig['layout']['yaxis2'].update(title='Density (\" Kg/m^3\")')\n",
    "\n",
    "fig['layout'].update(title='Pressure and Desnity during NPT Equilibration')\n",
    "fig['layout'].update(showlegend=False)\n",
    "\n",
    "plotly.offline.iplot(fig)"
   ]
  },
  {
   "attachments": {
    "a1101_crys_water_npt_edr_pressure_energy.png": {
     "image/png": "[encoded data removed]"
    }
   },
   "cell_type": "markdown",
   "id": "f38fca75",
   "metadata": {},
   "source": [
    "![a1101_crys_water_npt_edr_pressure_energy.png](attachment:a1101_crys_water_npt_edr_pressure_energy.png)"
   ]
  },
  {
   "cell_type": "code",
   "execution_count": null,
   "id": "05aa1299",
   "metadata": {},
   "outputs": [],
   "source": [
    "#copy the topology file"
   ]
  },
  {
   "cell_type": "code",
   "execution_count": 3,
   "id": "126d3744",
   "metadata": {},
   "outputs": [],
   "source": [
    "%cp a1101_water.top a1101_water_after_npt.top"
   ]
  },
  {
   "cell_type": "markdown",
   "id": "922a2499",
   "metadata": {},
   "source": [
    "# Step 12: Production run : Triplicates"
   ]
  },
  {
   "cell_type": "markdown",
   "id": "63c44611",
   "metadata": {},
   "source": [
    "## Create md.mdp file\n",
    "Obtain sample md.mdp file from http://www.mdtutorials.com/gmx/lysozyme/\n",
    "### .mdp changes :\n",
    "- change 1ns to 100 in comments\n",
    "- replace from vdw type with what we did previously for npt.mdp\n"
   ]
  },
  {
   "cell_type": "code",
   "execution_count": 19,
   "id": "ec2f2108",
   "metadata": {},
   "outputs": [],
   "source": [
    "%cp md_6id4.mdp a1101_md.mdp"
   ]
  },
  {
   "cell_type": "code",
   "execution_count": 21,
   "id": "39241014",
   "metadata": {},
   "outputs": [],
   "source": [
    "%mv a1101_md.mdp a1101_water_md.mdp"
   ]
  },
  {
   "cell_type": "code",
   "execution_count": null,
   "id": "0f1b5218",
   "metadata": {},
   "outputs": [],
   "source": [
    "vi a1101_water_md.mdp"
   ]
  },
  {
   "cell_type": "markdown",
   "id": "6bc2662a-4070-4aad-9ca2-37a78960a6d2",
   "metadata": {},
   "source": [
    "# Generate the md.tpr file"
   ]
  },
  {
   "cell_type": "markdown",
   "id": "a27671e4",
   "metadata": {},
   "source": [
    "\n",
    "gmx_mpi grompp -f a1101_water_md.mdp -c a1101_npt_24_05.gro  -r a1101_npt_24_05.gro -p a1101_water.top -o a1101_md.tpr -n a1101_water_post_em.ndx"
   ]
  },
  {
   "cell_type": "markdown",
   "id": "295b2163",
   "metadata": {},
   "source": [
    "## Batch script for MD run:\n",
    "\n",
    "### Replicate 1 :\n",
    "\n",
    "sbatch --mem=200G --time=96:00:00 -c 12 --gpus=v100:1 --wrap=\"gmx_mpi mdrun -deffnm a1101_repli1 -s a1101_md.tpr -nb gpu -ntomp 12\"\n",
    "\n",
    "### Replicate 2:\n",
    "sbatch --mem=200G --time=96:00:00 -c 12 --gpus=v100:1 --wrap=\"gmx_mpi mdrun -deffnm a1101_repli2 -s a1101_md.tpr -nb gpu -ntomp 12\"\n",
    "\n",
    "### Replicate 3: \n",
    "\n",
    "sbatch --mem=200G --time=96:00:00 -c 12 --gpus=v100:1 --wrap=\"gmx_mpi mdrun -deffnm a1101_repli3 -s a1101_md.tpr -nb gpu -ntomp 12\""
   ]
  },
  {
   "cell_type": "code",
   "execution_count": null,
   "id": "94e0f818",
   "metadata": {},
   "outputs": [],
   "source": []
  }
 ],
 "metadata": {
  "kernelspec": {
   "display_name": "Python 3 (ipykernel)",
   "language": "python",
   "name": "python3"
  },
  "language_info": {
   "codemirror_mode": {
    "name": "ipython",
    "version": 3
   },
   "file_extension": ".py",
   "mimetype": "text/x-python",
   "name": "python",
   "nbconvert_exporter": "python",
   "pygments_lexer": "ipython3",
   "version": "3.10.8"
  }
 },
 "nbformat": 4,
 "nbformat_minor": 5
}
